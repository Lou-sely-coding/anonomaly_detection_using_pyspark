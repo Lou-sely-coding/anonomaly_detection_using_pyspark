{
 "cells": [
  {
   "cell_type": "markdown",
   "metadata": {},
   "source": [
    "## 1. Data preparation and exploration"
   ]
  },
  {
   "cell_type": "markdown",
   "metadata": {},
   "source": [
    "### 1.1 Creating Spark Session"
   ]
  },
  {
   "cell_type": "code",
   "execution_count": 1,
   "metadata": {
    "ExecuteTime": {
     "end_time": "2020-10-04T08:41:49.214466Z",
     "start_time": "2020-10-04T08:41:38.937797Z"
    }
   },
   "outputs": [],
   "source": [
    "# Import SparkConf class \n",
    "from pyspark import SparkConf\n",
    "\n",
    "# Running Spark in local mode with as many working processors as logical cores on my machine\n",
    "master = \"local[*]\"\n",
    "# name to be shown in Spark UI\n",
    "app_name = \"Detecting hacking activities with ML\"\n",
    "\n",
    "# Setup configuration parameters for Spark\n",
    "spark_conf = SparkConf().setMaster(master).setAppName(app_name)\n",
    "\n",
    "# max bytes per partition\n",
    "spark_conf.set(\"spark.sql.files.maxPartitionBytes\", 14000000)\n",
    "\n",
    "# Importing SparkSession\n",
    "from pyspark.sql import SparkSession # Spark SQL\n",
    "\n",
    "# Using SparkSession\n",
    "spark = SparkSession.builder.config(conf=spark_conf).getOrCreate()\n",
    "sc = spark.sparkContext\n",
    "sc.setLogLevel('ERROR')\n",
    "\n"
   ]
  },
  {
   "cell_type": "markdown",
   "metadata": {},
   "source": [
    "### 1.2 Loading the data"
   ]
  },
  {
   "cell_type": "markdown",
   "metadata": {},
   "source": [
    "#### 1.2.1 Specifying schema and loading data"
   ]
  },
  {
   "cell_type": "code",
   "execution_count": 2,
   "metadata": {
    "ExecuteTime": {
     "end_time": "2020-10-04T08:42:20.349273Z",
     "start_time": "2020-10-04T08:41:49.220051Z"
    }
   },
   "outputs": [
    {
     "name": "stdout",
     "output_type": "stream",
     "text": [
      "1927968\n",
      "2000000\n"
     ]
    }
   ],
   "source": [
    "from pyspark.sql.types import StringType, IntegerType, DoubleType, TimestampType, StructType, StructField, DateType\n",
    "\n",
    "\n",
    "# defining the schema\n",
    "schema_process = StructType([StructField('ts', IntegerType()),\n",
    "                     StructField('PID', IntegerType()),\n",
    "                     StructField('TRUN', IntegerType()),\n",
    "                     StructField('TSLPI', IntegerType()),\n",
    "                     StructField('TSLPU', IntegerType()),\n",
    "                     StructField('POLI', StringType()),\n",
    "                     StructField('NICE', IntegerType()),\n",
    "                     StructField('PRI', IntegerType()),\n",
    "                     StructField('RTPR', IntegerType()),\n",
    "                     StructField('CPUNR', IntegerType()),\n",
    "                     StructField('Status', StringType()),\n",
    "                     StructField('EXC', IntegerType()),\n",
    "                     StructField('State', StringType()),\n",
    "                     StructField('CPU', DoubleType()),\n",
    "                     StructField('CMD', StringType()),\n",
    "                     StructField('attack', IntegerType()),\n",
    "                     StructField('type', StringType())])\n",
    "\n",
    "process_df = spark.read.csv('linux_process_*.csv',schema=schema_process,header=True)\n",
    "\n",
    "\n",
    "schema_memory = StructType([StructField('ts', IntegerType()),\n",
    "                     StructField('PID', IntegerType()),\n",
    "                     StructField('MINFLT', IntegerType()),\n",
    "                     StructField('MAJFLT', IntegerType()),\n",
    "                     StructField('VSTEXT', DoubleType()),\n",
    "                     StructField('VSIZE', DoubleType()),\n",
    "                     StructField('RSIZE', DoubleType()),\n",
    "                     StructField('VGROW', DoubleType()),\n",
    "                     StructField('RGROW', DoubleType()),\n",
    "                     StructField('MEM', DoubleType()),\n",
    "                     StructField('CMD', StringType()),\n",
    "                     StructField('attack', IntegerType()),\n",
    "                     StructField('type', StringType())])\n",
    "\n",
    "memory_df = spark.read.csv('linux_memory_*.csv',schema=schema_memory,header=True)\n",
    "\n",
    "#cache the data\n",
    "process_df.cache()\n",
    "memory_df.cache()\n",
    "\n",
    "print(process_df.count())\n",
    "print(memory_df.count())"
   ]
  },
  {
   "cell_type": "code",
   "execution_count": 3,
   "metadata": {
    "ExecuteTime": {
     "end_time": "2020-10-04T08:42:20.516429Z",
     "start_time": "2020-10-04T08:42:20.352273Z"
    }
   },
   "outputs": [
    {
     "name": "stdout",
     "output_type": "stream",
     "text": [
      "10\n",
      "9\n"
     ]
    }
   ],
   "source": [
    "# checking that number of partitions is at least 4\n",
    "\n",
    "print(process_df.rdd.getNumPartitions())\n",
    "print(memory_df.rdd.getNumPartitions())"
   ]
  },
  {
   "cell_type": "code",
   "execution_count": 4,
   "metadata": {
    "ExecuteTime": {
     "end_time": "2020-10-04T08:42:21.453995Z",
     "start_time": "2020-10-04T08:42:20.518339Z"
    }
   },
   "outputs": [
    {
     "name": "stdout",
     "output_type": "stream",
     "text": [
      "+----------+----+----+-----+-----+----+----+---+----+-----+------+---+-----+---+--------------+------+------+\n",
      "|        ts| PID|TRUN|TSLPI|TSLPU|POLI|NICE|PRI|RTPR|CPUNR|Status|EXC|State|CPU|           CMD|attack|  type|\n",
      "+----------+----+----+-----+-----+----+----+---+----+-----+------+---+-----+---+--------------+------+------+\n",
      "|1556739928|2579|   0|    1|    0|norm|   0|120|   0|    0|     -|  0|    S|0.0|upstart-dbus-b|     0|normal|\n",
      "|1556739933|3739|   0|    1|    0|norm|   0|120|   0|    0|     -|  0|    S|0.0|   kworker/0:1|     0|normal|\n",
      "|1556739938|3752|   0|    4|    0|norm|   0|120|   0|    1|     -|  0|    S|0.0|gnome-terminal|     0|normal|\n",
      "|1556739943|2596|   0|    4|    0|norm|   0|120|   0|    3|     -|  0|    S|0.0|unity-settings|     0|normal|\n",
      "|1556739948|1400|   0|    1|    0|norm|   0|120|   0|    2|     -|  0|    S|0.0|    irqbalance|     0|normal|\n",
      "+----------+----+----+-----+-----+----+----+---+----+-----+------+---+-----+---+--------------+------+------+\n",
      "only showing top 5 rows\n",
      "\n",
      "+----------+----+------+------+------+-----+------+-----+-----+---+--------------+------+------+\n",
      "|        ts| PID|MINFLT|MAJFLT|VSTEXT|VSIZE| RSIZE|VGROW|RGROW|MEM|           CMD|attack|  type|\n",
      "+----------+----+------+------+------+-----+------+-----+-----+---+--------------+------+------+\n",
      "|1556743448|2123|     9|     0| 596.0|191.7|4712.0|  0.0|  0.0|0.0|       apache2|     0|normal|\n",
      "|1556743453|2925|     0|     0| 350.0|315.3|4596.0|  0.0|  0.0|0.0|mission-contro|     0|normal|\n",
      "|1556743458|1192|     2|     0|1071.0|342.1|4528.0|  0.0|  0.0|0.0|NetworkManager|     0|normal|\n",
      "|1556743463|1404|     0|     0|  47.0|505.2|3584.0|  0.0|  0.0|0.0|      whoopsie|     0|normal|\n",
      "|1556743468|3238|     0|     0|  18.0|368.9|3516.0|  0.0|  0.0|0.0|deja-dup-monit|     0|normal|\n",
      "+----------+----+------+------+------+-----+------+-----+-----+---+--------------+------+------+\n",
      "only showing top 5 rows\n",
      "\n"
     ]
    }
   ],
   "source": [
    "process_df.show(5)\n",
    "memory_df.show(5)"
   ]
  },
  {
   "cell_type": "markdown",
   "metadata": {},
   "source": [
    "#### 1.2.2 Checking for null and nan values"
   ]
  },
  {
   "cell_type": "code",
   "execution_count": 5,
   "metadata": {
    "ExecuteTime": {
     "end_time": "2020-10-04T08:42:54.600069Z",
     "start_time": "2020-10-04T08:42:21.455846Z"
    }
   },
   "outputs": [
    {
     "name": "stdout",
     "output_type": "stream",
     "text": [
      "+---+---+----+-----+-----+----+----+---+----+-----+------+---+-----+---+---+------+----+\n",
      "| ts|PID|TRUN|TSLPI|TSLPU|POLI|NICE|PRI|RTPR|CPUNR|Status|EXC|State|CPU|CMD|attack|type|\n",
      "+---+---+----+-----+-----+----+----+---+----+-----+------+---+-----+---+---+------+----+\n",
      "|  0|  0|   0|    0|    0|   0|   0|  0|   0|    0|     0|  0|    0|  0|  0|     0|   0|\n",
      "+---+---+----+-----+-----+----+----+---+----+-----+------+---+-----+---+---+------+----+\n",
      "\n"
     ]
    }
   ],
   "source": [
    "from pyspark.sql.functions import isnan, when, count, col\n",
    "\n",
    "#checking for any null or nan values in the dataframes\n",
    "process_df.select([count(when(isnan(c) | col(c).isNull(), c)).alias(c) for c in process_df.columns]).show()"
   ]
  },
  {
   "cell_type": "code",
   "execution_count": 6,
   "metadata": {
    "ExecuteTime": {
     "end_time": "2020-10-04T08:43:05.756592Z",
     "start_time": "2020-10-04T08:42:54.609382Z"
    }
   },
   "outputs": [
    {
     "name": "stdout",
     "output_type": "stream",
     "text": [
      "+---+---+------+------+------+-----+-----+-----+-----+---+---+------+----+\n",
      "| ts|PID|MINFLT|MAJFLT|VSTEXT|VSIZE|RSIZE|VGROW|RGROW|MEM|CMD|attack|type|\n",
      "+---+---+------+------+------+-----+-----+-----+-----+---+---+------+----+\n",
      "|  0|  0|  9737|448868|  8800|    0| 9728|49552| 9737|  0|  0|     0|   0|\n",
      "+---+---+------+------+------+-----+-----+-----+-----+---+---+------+----+\n",
      "\n"
     ]
    }
   ],
   "source": [
    "memory_df.select([count(when(isnan(c) | col(c).isNull(), c)).alias(c) for c in memory_df.columns]).show()"
   ]
  },
  {
   "cell_type": "markdown",
   "metadata": {},
   "source": [
    "We can see that the memory dataframe has 6 columns cotaining a large amount of null values. We reload the memory data, but this time specifying these 6 columns as string type instead of numerical in order to inspect it further."
   ]
  },
  {
   "cell_type": "code",
   "execution_count": 7,
   "metadata": {
    "ExecuteTime": {
     "end_time": "2020-10-04T08:43:05.843135Z",
     "start_time": "2020-10-04T08:43:05.758482Z"
    }
   },
   "outputs": [],
   "source": [
    "#change the columns with null/nan values to string and inspect further\n",
    "\n",
    "schema_memory = StructType([StructField('ts', IntegerType()),\n",
    "                     StructField('PID', IntegerType()),\n",
    "                     StructField('MINFLT', StringType()),\n",
    "                     StructField('MAJFLT', StringType()),\n",
    "                     StructField('VSTEXT', StringType()),\n",
    "                     StructField('VSIZE', DoubleType()),\n",
    "                     StructField('RSIZE', StringType()),\n",
    "                     StructField('VGROW', StringType()),\n",
    "                     StructField('RGROW', StringType()),\n",
    "                     StructField('MEM', DoubleType()),\n",
    "                     StructField('CMD', StringType()),\n",
    "                     StructField('attack', IntegerType()),\n",
    "                     StructField('type', StringType())])\n",
    "\n",
    "memory_df = spark.read.csv('linux_memory_*.csv',schema=schema_memory,header=True)"
   ]
  },
  {
   "cell_type": "code",
   "execution_count": 8,
   "metadata": {
    "ExecuteTime": {
     "end_time": "2020-10-04T08:43:17.681731Z",
     "start_time": "2020-10-04T08:43:05.846571Z"
    }
   },
   "outputs": [
    {
     "name": "stdout",
     "output_type": "stream",
     "text": [
      "+---+---+------+------+------+-----+-----+-----+-----+---+---+------+----+\n",
      "| ts|PID|MINFLT|MAJFLT|VSTEXT|VSIZE|RSIZE|VGROW|RGROW|MEM|CMD|attack|type|\n",
      "+---+---+------+------+------+-----+-----+-----+-----+---+---+------+----+\n",
      "|  0|  0|     0|     0|     0|    0|    0|    0|    0|  0|  0|     0|   0|\n",
      "+---+---+------+------+------+-----+-----+-----+-----+---+---+------+----+\n",
      "\n"
     ]
    }
   ],
   "source": [
    "#checking that there are no null/nan values left\n",
    "memory_df.select([count(when(isnan(c) | col(c).isNull(), c)).alias(c) for c in memory_df.columns]).show()"
   ]
  },
  {
   "cell_type": "markdown",
   "metadata": {},
   "source": [
    "Let's have a look at the six column's values which cannot be casted into double type to see what the issue is. "
   ]
  },
  {
   "cell_type": "code",
   "execution_count": 9,
   "metadata": {
    "ExecuteTime": {
     "end_time": "2020-10-04T08:43:55.150071Z",
     "start_time": "2020-10-04T08:43:17.684737Z"
    }
   },
   "outputs": [
    {
     "name": "stdout",
     "output_type": "stream",
     "text": [
      "+------+\n",
      "|MINFLT|\n",
      "+------+\n",
      "|    0K|\n",
      "|  132K|\n",
      "+------+\n",
      "\n",
      "+------+\n",
      "|MAJFLT|\n",
      "+------+\n",
      "|224.2M|\n",
      "|224.4M|\n",
      "+------+\n",
      "\n",
      "+------+\n",
      "|VSTEXT|\n",
      "+------+\n",
      "|10956K|\n",
      "|10976K|\n",
      "|10980K|\n",
      "|10988K|\n",
      "|11004K|\n",
      "+------+\n",
      "only showing top 5 rows\n",
      "\n",
      "+------+\n",
      "| RSIZE|\n",
      "+------+\n",
      "|    0K|\n",
      "|   16K|\n",
      "|  216K|\n",
      "|224.2M|\n",
      "|224.4M|\n",
      "+------+\n",
      "\n",
      "+------+\n",
      "| VGROW|\n",
      "+------+\n",
      "|-9384K|\n",
      "|-9392K|\n",
      "|   0 1|\n",
      "|   0 2|\n",
      "|   0 3|\n",
      "+------+\n",
      "only showing top 5 rows\n",
      "\n",
      "+-----+\n",
      "|RGROW|\n",
      "+-----+\n",
      "|   0K|\n",
      "+-----+\n",
      "\n"
     ]
    }
   ],
   "source": [
    "from pyspark.sql import functions as F\n",
    "from pyspark.sql.functions import regexp_replace\n",
    "\n",
    "#function which will take a subset of the column passed in for all values which cannot be casted to DoubleType\n",
    "def non_numeric(df, column):\n",
    "    non_numeric = df.select(column,\n",
    "    F.col(column).cast(DoubleType()).isNotNull().alias(\"Boolean\")).filter(col(\"Boolean\")== 'false')\n",
    "    \n",
    "    non_numeric.select(column).distinct().sort(column).show(5)\n",
    "    \n",
    "non_num_1 = non_numeric(memory_df, 'MINFLT')\n",
    "non_num_2 = non_numeric(memory_df, 'MAJFLT')\n",
    "non_num_3 = non_numeric(memory_df, 'VSTEXT')\n",
    "non_num_4 = non_numeric(memory_df, 'RSIZE')\n",
    "non_num_5 = non_numeric(memory_df, 'VGROW')\n",
    "non_num_6 = non_numeric(memory_df, 'RGROW')"
   ]
  },
  {
   "cell_type": "markdown",
   "metadata": {},
   "source": [
    "From the output above we can see that there are three issues: Some values have a K after them, which means they should be multiplied by 1000, some values have an M behind so they should be multiplied by 1000000 and at least one column contains spaces. We will fix these issues and see afterwards whether there are any non numerical values left.\n",
    "\n",
    "Below a function is created to clean the columns."
   ]
  },
  {
   "cell_type": "code",
   "execution_count": 10,
   "metadata": {
    "ExecuteTime": {
     "end_time": "2020-10-04T08:43:55.193219Z",
     "start_time": "2020-10-04T08:43:55.152893Z"
    }
   },
   "outputs": [],
   "source": [
    "def clean_columns(df, column):\n",
    "    \n",
    "    # remove space\n",
    "    temp_df_1 = df.withColumn(column, regexp_replace(col(column), ' ', ''))\n",
    "    \n",
    "    # remove the M, cast it to double type, multiply by 1000000 and change back to string\n",
    "    \n",
    "    # a temporary columns gets added which indicated which rows contain an \"M\" (true/false)\n",
    "    temp_df_2 = temp_df_1.withColumn(\"contains_m\", col(column).rlike(\"M\"))\\\n",
    "    .withColumn(column, F.when(F.col(\"contains_m\") == \"true\", \n",
    "                                     regexp_replace(col(column), 'M', ''))\\\n",
    "                                     .otherwise(F.col(column)))\\\n",
    "    .withColumn(column, F.when(F.col(\"contains_m\") == \"true\", \n",
    "                                    col(column).cast(DoubleType()))\\\n",
    "                                    .otherwise(F.col(column)))\\\n",
    "    .withColumn(column, F.when(F.col(\"contains_m\") == \"true\", \n",
    "                                    col(column)*1000000)\\\n",
    "                                     .otherwise(F.col(column)))\\\n",
    "    .withColumn(column, F.when(F.col(\"contains_m\") == \"true\", \n",
    "                                    col(column).cast(StringType()))\\\n",
    "                                    .otherwise(F.col(column)))\\\n",
    "    \n",
    "    # remove the K, cast it to double type, multiply by 1000 and change back to string\n",
    "    \n",
    "    # a temporary columns gets added which indicated which rows contain an \"K\" (true/false)\n",
    "    temp_df_3 = temp_df_2.withColumn(\"contains_k\", col(column).rlike(\"K\"))\\\n",
    "    .withColumn(column, F.when(F.col(\"contains_k\") == \"true\", \n",
    "                                     regexp_replace(col(column), 'K', ''))\\\n",
    "                                     .otherwise(F.col(column)))\\\n",
    "    .withColumn(column, F.when(F.col(\"contains_k\") == \"true\", \n",
    "                                    col(column).cast(DoubleType()))\\\n",
    "                                    .otherwise(F.col(column)))\\\n",
    "    .withColumn(column, F.when(F.col(\"contains_k\") == \"true\", \n",
    "                                    col(column)*1000)\\\n",
    "                                     .otherwise(F.col(column)))\\\n",
    "    .withColumn(column, F.when(F.col(\"contains_k\") == \"true\", \n",
    "                                    col(column).cast(StringType()))\\\n",
    "                                    .otherwise(F.col(column)))\\\n",
    "    \n",
    "    #drop the temporarly created columns\n",
    "    drop_cols = ['contains_m', 'contains_k']\n",
    "    temp_df_3 = temp_df_3.drop(*drop_cols)\n",
    "    \n",
    "    # return the cleaned dataframe \n",
    "    return temp_df_3\n"
   ]
  },
  {
   "cell_type": "code",
   "execution_count": 11,
   "metadata": {
    "ExecuteTime": {
     "end_time": "2020-10-04T08:46:08.596612Z",
     "start_time": "2020-10-04T08:43:55.195819Z"
    }
   },
   "outputs": [
    {
     "name": "stdout",
     "output_type": "stream",
     "text": [
      "+------+\n",
      "|MINFLT|\n",
      "+------+\n",
      "+------+\n",
      "\n",
      "+------+\n",
      "|MAJFLT|\n",
      "+------+\n",
      "+------+\n",
      "\n",
      "+------+\n",
      "|VSTEXT|\n",
      "+------+\n",
      "+------+\n",
      "\n",
      "+-----+\n",
      "|RSIZE|\n",
      "+-----+\n",
      "+-----+\n",
      "\n",
      "+-----+\n",
      "|VGROW|\n",
      "+-----+\n",
      "+-----+\n",
      "\n",
      "+-----+\n",
      "|RGROW|\n",
      "+-----+\n",
      "+-----+\n",
      "\n"
     ]
    }
   ],
   "source": [
    "# cleaning all six rows by using the above created function\n",
    "# always passing the newly created df to the next function call\n",
    "\n",
    "mem_df_1 = clean_columns(memory_df, 'MINFLT')\n",
    "mem_df_2 = clean_columns(mem_df_1, 'MAJFLT')\n",
    "mem_df_3 = clean_columns(mem_df_2, 'VSTEXT')\n",
    "mem_df_4 = clean_columns(mem_df_3, 'RSIZE')\n",
    "mem_df_5 = clean_columns(mem_df_4, 'VGROW')\n",
    "mem_df_6 = clean_columns(mem_df_5, 'RGROW')\n",
    "\n",
    "#checking whether there are any values left which cannot be casted to double type\n",
    "non_num_2_1 = non_numeric(mem_df_6, 'MINFLT')\n",
    "non_num_2_2 = non_numeric(mem_df_6, 'MAJFLT')\n",
    "non_num_2_3 = non_numeric(mem_df_6, 'VSTEXT')\n",
    "non_num_2_4 = non_numeric(mem_df_6, 'RSIZE')\n",
    "non_num_2_5 = non_numeric(mem_df_6, 'VGROW')\n",
    "non_num_2_6 = non_numeric(mem_df_6, 'RGROW')"
   ]
  },
  {
   "cell_type": "markdown",
   "metadata": {},
   "source": [
    " After having cleaned the columns we can see that there are no values left which cannot be converted to double type, so there are no further similar issues. We can now cast the six columns to numebers."
   ]
  },
  {
   "cell_type": "code",
   "execution_count": 12,
   "metadata": {
    "ExecuteTime": {
     "end_time": "2020-10-04T08:46:09.950597Z",
     "start_time": "2020-10-04T08:46:08.598234Z"
    }
   },
   "outputs": [
    {
     "name": "stdout",
     "output_type": "stream",
     "text": [
      "root\n",
      " |-- ts: integer (nullable = true)\n",
      " |-- PID: integer (nullable = true)\n",
      " |-- MINFLT: double (nullable = true)\n",
      " |-- MAJFLT: double (nullable = true)\n",
      " |-- VSTEXT: double (nullable = true)\n",
      " |-- VSIZE: double (nullable = true)\n",
      " |-- RSIZE: double (nullable = true)\n",
      " |-- VGROW: double (nullable = true)\n",
      " |-- RGROW: double (nullable = true)\n",
      " |-- MEM: double (nullable = true)\n",
      " |-- CMD: string (nullable = true)\n",
      " |-- attack: integer (nullable = true)\n",
      " |-- type: string (nullable = true)\n",
      "\n"
     ]
    },
    {
     "data": {
      "text/plain": [
       "DataFrame[ts: int, PID: int, MINFLT: double, MAJFLT: double, VSTEXT: double, VSIZE: double, RSIZE: double, VGROW: double, RGROW: double, MEM: double, CMD: string, attack: int, type: string]"
      ]
     },
     "execution_count": 12,
     "metadata": {},
     "output_type": "execute_result"
    }
   ],
   "source": [
    "# convert the cleaned columns to double type and print schema\n",
    "\n",
    "cols = [\"MINFLT\", \"MAJFLT\", \"VSTEXT\", \"RSIZE\", \"VGROW\", \"RGROW\"]\n",
    "\n",
    "final_memory_df = mem_df_6\n",
    "\n",
    "for col_name in cols:\n",
    "    final_memory_df = final_memory_df.withColumn(col_name, col(col_name).cast(DoubleType()))\n",
    "\n",
    "    \n",
    "final_memory_df.printSchema()\n",
    "\n",
    "final_memory_df.cache()"
   ]
  },
  {
   "cell_type": "markdown",
   "metadata": {},
   "source": [
    "### 1.3 Exploring the data"
   ]
  },
  {
   "cell_type": "markdown",
   "metadata": {},
   "source": [
    "#### 1.3.1 count of attack and no attack data and type of attack"
   ]
  },
  {
   "cell_type": "code",
   "execution_count": 13,
   "metadata": {
    "ExecuteTime": {
     "end_time": "2020-10-04T08:49:15.005541Z",
     "start_time": "2020-10-04T08:46:09.958334Z"
    }
   },
   "outputs": [
    {
     "name": "stdout",
     "output_type": "stream",
     "text": [
      "+------+-------------+\n",
      "|attack|Count process|\n",
      "+------+-------------+\n",
      "|     0|      1636604|\n",
      "|     1|       291364|\n",
      "+------+-------------+\n",
      "\n",
      "+------+------------+\n",
      "|attack|Count memory|\n",
      "+------+------------+\n",
      "|     0|     1794377|\n",
      "|     1|      205623|\n",
      "+------+------------+\n",
      "\n"
     ]
    }
   ],
   "source": [
    "#group by attack process df\n",
    "process_df.select(\"attack\").groupby(\"attack\").agg(F.count(\"attack\").alias('Count process')).sort(\"attack\").show()\n",
    "\n",
    "#group by attack memory df\n",
    "final_memory_df.select(\"attack\").groupby(\"attack\").agg(F.count(\"attack\").alias('Count memory')).sort(\"attack\").show()"
   ]
  },
  {
   "cell_type": "code",
   "execution_count": 14,
   "metadata": {
    "ExecuteTime": {
     "end_time": "2020-10-04T08:49:17.994000Z",
     "start_time": "2020-10-04T08:49:15.007285Z"
    }
   },
   "outputs": [
    {
     "name": "stdout",
     "output_type": "stream",
     "text": [
      "+---------+-------------+\n",
      "|     type|Count process|\n",
      "+---------+-------------+\n",
      "|     ddos|        71603|\n",
      "|      dos|        70721|\n",
      "|injection|        41311|\n",
      "|     mitm|          112|\n",
      "|   normal|      1636604|\n",
      "| password|        51409|\n",
      "| scanning|        38449|\n",
      "|      xss|        17759|\n",
      "+---------+-------------+\n",
      "\n",
      "+---------+------------+\n",
      "|     type|Count memory|\n",
      "+---------+------------+\n",
      "|     ddos|       45689|\n",
      "|      dos|       75283|\n",
      "|injection|       58523|\n",
      "|     mitm|         112|\n",
      "|   normal|     1794377|\n",
      "| password|       26016|\n",
      "+---------+------------+\n",
      "\n"
     ]
    }
   ],
   "source": [
    "# group by type process df\n",
    "process_df.select(\"type\").groupby(\"type\").agg(F.count(\"type\").alias('Count process')).sort(\"type\").show()\n",
    "\n",
    "# group by type memory df\n",
    "final_memory_df.select(\"type\").groupby(\"type\").agg(F.count(\"type\").alias('Count memory')).sort(\"type\").show()"
   ]
  },
  {
   "cell_type": "markdown",
   "metadata": {},
   "source": [
    "We can see from the tables above that there is an imbalance between attack and no attack in both dataframes (process and memory). \"No attack\" by far outweights \"attack\"; the rows of \"no attack\" is more than 5 times as much than the rows of \"attack\". When we look for the type of attack, the amount of \"normal\" data rows is the same as for \"no attack\" which we would expect. We can also see that there is only a very small amount of \"mitm\" type attack (112  times in both dataframes)."
   ]
  },
  {
   "cell_type": "markdown",
   "metadata": {},
   "source": [
    "#### 1.3.2 Basic statistics"
   ]
  },
  {
   "cell_type": "markdown",
   "metadata": {},
   "source": [
    "From the basic statistics we can see that the column \"RTPR\" only contains zeros, so we won't consider it for our model."
   ]
  },
  {
   "cell_type": "code",
   "execution_count": 15,
   "metadata": {
    "ExecuteTime": {
     "end_time": "2020-10-04T08:49:20.444095Z",
     "start_time": "2020-10-04T08:49:17.996231Z"
    }
   },
   "outputs": [
    {
     "data": {
      "text/html": [
       "<div>\n",
       "<style scoped>\n",
       "    .dataframe tbody tr th:only-of-type {\n",
       "        vertical-align: middle;\n",
       "    }\n",
       "\n",
       "    .dataframe tbody tr th {\n",
       "        vertical-align: top;\n",
       "    }\n",
       "\n",
       "    .dataframe thead th {\n",
       "        text-align: right;\n",
       "    }\n",
       "</style>\n",
       "<table border=\"1\" class=\"dataframe\">\n",
       "  <thead>\n",
       "    <tr style=\"text-align: right;\">\n",
       "      <th></th>\n",
       "      <th>summary</th>\n",
       "      <th>ts</th>\n",
       "      <th>PID</th>\n",
       "      <th>TRUN</th>\n",
       "      <th>TSLPI</th>\n",
       "      <th>TSLPU</th>\n",
       "      <th>NICE</th>\n",
       "      <th>PRI</th>\n",
       "      <th>RTPR</th>\n",
       "      <th>CPUNR</th>\n",
       "      <th>EXC</th>\n",
       "      <th>CPU</th>\n",
       "    </tr>\n",
       "  </thead>\n",
       "  <tbody>\n",
       "    <tr>\n",
       "      <th>0</th>\n",
       "      <td>count</td>\n",
       "      <td>1927968</td>\n",
       "      <td>1927968</td>\n",
       "      <td>1927968</td>\n",
       "      <td>1927968</td>\n",
       "      <td>1927968</td>\n",
       "      <td>1927968</td>\n",
       "      <td>1927968</td>\n",
       "      <td>1927968</td>\n",
       "      <td>1927968</td>\n",
       "      <td>1927968</td>\n",
       "      <td>1927968</td>\n",
       "    </tr>\n",
       "    <tr>\n",
       "      <th>1</th>\n",
       "      <td>mean</td>\n",
       "      <td>1.5563198311840394E9</td>\n",
       "      <td>5068.709770597852</td>\n",
       "      <td>0.0632287465352122</td>\n",
       "      <td>3.508334163222626</td>\n",
       "      <td>3.6100184235422994E-4</td>\n",
       "      <td>4.634469555511295</td>\n",
       "      <td>111.26826741937626</td>\n",
       "      <td>0.0</td>\n",
       "      <td>1.9210142491991569</td>\n",
       "      <td>0.030275398761805176</td>\n",
       "      <td>0.022385272992093117</td>\n",
       "    </tr>\n",
       "    <tr>\n",
       "      <th>2</th>\n",
       "      <td>stddev</td>\n",
       "      <td>771350.0248104578</td>\n",
       "      <td>4987.78432932045</td>\n",
       "      <td>0.2478258709041608</td>\n",
       "      <td>6.988459728531817</td>\n",
       "      <td>0.04421874419214575</td>\n",
       "      <td>8.403189864752031</td>\n",
       "      <td>22.62444506210296</td>\n",
       "      <td>0.0</td>\n",
       "      <td>1.527404722590289</td>\n",
       "      <td>1.4619498567691829</td>\n",
       "      <td>0.1362894368718417</td>\n",
       "    </tr>\n",
       "    <tr>\n",
       "      <th>3</th>\n",
       "      <td>min</td>\n",
       "      <td>1554216855</td>\n",
       "      <td>1007</td>\n",
       "      <td>0</td>\n",
       "      <td>0</td>\n",
       "      <td>0</td>\n",
       "      <td>0</td>\n",
       "      <td>0</td>\n",
       "      <td>0</td>\n",
       "      <td>0</td>\n",
       "      <td>0</td>\n",
       "      <td>0.0</td>\n",
       "    </tr>\n",
       "    <tr>\n",
       "      <th>4</th>\n",
       "      <td>max</td>\n",
       "      <td>1557593017</td>\n",
       "      <td>53080</td>\n",
       "      <td>12</td>\n",
       "      <td>70</td>\n",
       "      <td>21</td>\n",
       "      <td>20</td>\n",
       "      <td>139</td>\n",
       "      <td>0</td>\n",
       "      <td>5</td>\n",
       "      <td>127</td>\n",
       "      <td>4.02</td>\n",
       "    </tr>\n",
       "  </tbody>\n",
       "</table>\n",
       "</div>"
      ],
      "text/plain": [
       "  summary                    ts                PID                TRUN  \\\n",
       "0   count               1927968            1927968             1927968   \n",
       "1    mean  1.5563198311840394E9  5068.709770597852  0.0632287465352122   \n",
       "2  stddev     771350.0248104578   4987.78432932045  0.2478258709041608   \n",
       "3     min            1554216855               1007                   0   \n",
       "4     max            1557593017              53080                  12   \n",
       "\n",
       "               TSLPI                  TSLPU               NICE  \\\n",
       "0            1927968                1927968            1927968   \n",
       "1  3.508334163222626  3.6100184235422994E-4  4.634469555511295   \n",
       "2  6.988459728531817    0.04421874419214575  8.403189864752031   \n",
       "3                  0                      0                  0   \n",
       "4                 70                     21                 20   \n",
       "\n",
       "                  PRI     RTPR               CPUNR                   EXC  \\\n",
       "0             1927968  1927968             1927968               1927968   \n",
       "1  111.26826741937626      0.0  1.9210142491991569  0.030275398761805176   \n",
       "2   22.62444506210296      0.0   1.527404722590289    1.4619498567691829   \n",
       "3                   0        0                   0                     0   \n",
       "4                 139        0                   5                   127   \n",
       "\n",
       "                    CPU  \n",
       "0               1927968  \n",
       "1  0.022385272992093117  \n",
       "2    0.1362894368718417  \n",
       "3                   0.0  \n",
       "4                  4.02  "
      ]
     },
     "execution_count": 15,
     "metadata": {},
     "output_type": "execute_result"
    }
   ],
   "source": [
    "process_df.select([c for c in process_df.columns if c not in {'POLI', 'Status', 'State', 'CMD', 'attack', 'type'}])\\\n",
    "    .describe().toPandas()"
   ]
  },
  {
   "cell_type": "code",
   "execution_count": 16,
   "metadata": {
    "ExecuteTime": {
     "end_time": "2020-10-04T08:49:21.864766Z",
     "start_time": "2020-10-04T08:49:20.450424Z"
    }
   },
   "outputs": [
    {
     "data": {
      "text/html": [
       "<div>\n",
       "<style scoped>\n",
       "    .dataframe tbody tr th:only-of-type {\n",
       "        vertical-align: middle;\n",
       "    }\n",
       "\n",
       "    .dataframe tbody tr th {\n",
       "        vertical-align: top;\n",
       "    }\n",
       "\n",
       "    .dataframe thead th {\n",
       "        text-align: right;\n",
       "    }\n",
       "</style>\n",
       "<table border=\"1\" class=\"dataframe\">\n",
       "  <thead>\n",
       "    <tr style=\"text-align: right;\">\n",
       "      <th></th>\n",
       "      <th>summary</th>\n",
       "      <th>ts</th>\n",
       "      <th>PID</th>\n",
       "      <th>MINFLT</th>\n",
       "      <th>MAJFLT</th>\n",
       "      <th>VSTEXT</th>\n",
       "      <th>VSIZE</th>\n",
       "      <th>RSIZE</th>\n",
       "      <th>VGROW</th>\n",
       "      <th>RGROW</th>\n",
       "      <th>MEM</th>\n",
       "    </tr>\n",
       "  </thead>\n",
       "  <tbody>\n",
       "    <tr>\n",
       "      <th>0</th>\n",
       "      <td>count</td>\n",
       "      <td>2000000</td>\n",
       "      <td>2000000</td>\n",
       "      <td>2000000</td>\n",
       "      <td>2000000</td>\n",
       "      <td>2000000</td>\n",
       "      <td>2000000</td>\n",
       "      <td>2000000</td>\n",
       "      <td>2000000</td>\n",
       "      <td>2000000</td>\n",
       "      <td>2000000</td>\n",
       "    </tr>\n",
       "    <tr>\n",
       "      <th>1</th>\n",
       "      <td>mean</td>\n",
       "      <td>1.55624581707609E9</td>\n",
       "      <td>4999.360446</td>\n",
       "      <td>983.344344</td>\n",
       "      <td>987846.5873271931</td>\n",
       "      <td>46453.27415209479</td>\n",
       "      <td>4496.419966451569</td>\n",
       "      <td>23722.888664199487</td>\n",
       "      <td>984.4668735599992</td>\n",
       "      <td>483.17466255</td>\n",
       "      <td>0.003385164999998239</td>\n",
       "    </tr>\n",
       "    <tr>\n",
       "      <th>2</th>\n",
       "      <td>stddev</td>\n",
       "      <td>984463.3682784326</td>\n",
       "      <td>4887.313351921467</td>\n",
       "      <td>19229.61098064229</td>\n",
       "      <td>1.4842874238099096E7</td>\n",
       "      <td>658730.205154301</td>\n",
       "      <td>9046.338093399017</td>\n",
       "      <td>1986383.1808735013</td>\n",
       "      <td>86174.82585202357</td>\n",
       "      <td>1491.4761059171824</td>\n",
       "      <td>0.010943425779985885</td>\n",
       "    </tr>\n",
       "    <tr>\n",
       "      <th>3</th>\n",
       "      <td>min</td>\n",
       "      <td>1554216855</td>\n",
       "      <td>1007</td>\n",
       "      <td>0.0</td>\n",
       "      <td>0.0</td>\n",
       "      <td>0.0</td>\n",
       "      <td>0.0</td>\n",
       "      <td>-9728.0</td>\n",
       "      <td>-9392000.0</td>\n",
       "      <td>0.0</td>\n",
       "      <td>0.0</td>\n",
       "    </tr>\n",
       "    <tr>\n",
       "      <th>4</th>\n",
       "      <td>max</td>\n",
       "      <td>1558355716</td>\n",
       "      <td>53096</td>\n",
       "      <td>8050000.0</td>\n",
       "      <td>2.244E8</td>\n",
       "      <td>1.12E7</td>\n",
       "      <td>88040.0</td>\n",
       "      <td>2.244E8</td>\n",
       "      <td>1.116E7</td>\n",
       "      <td>98920.0</td>\n",
       "      <td>0.44</td>\n",
       "    </tr>\n",
       "  </tbody>\n",
       "</table>\n",
       "</div>"
      ],
      "text/plain": [
       "  summary                  ts                PID             MINFLT  \\\n",
       "0   count             2000000            2000000            2000000   \n",
       "1    mean  1.55624581707609E9        4999.360446         983.344344   \n",
       "2  stddev   984463.3682784326  4887.313351921467  19229.61098064229   \n",
       "3     min          1554216855               1007                0.0   \n",
       "4     max          1558355716              53096          8050000.0   \n",
       "\n",
       "                 MAJFLT             VSTEXT              VSIZE  \\\n",
       "0               2000000            2000000            2000000   \n",
       "1     987846.5873271931  46453.27415209479  4496.419966451569   \n",
       "2  1.4842874238099096E7   658730.205154301  9046.338093399017   \n",
       "3                   0.0                0.0                0.0   \n",
       "4               2.244E8             1.12E7            88040.0   \n",
       "\n",
       "                RSIZE              VGROW               RGROW  \\\n",
       "0             2000000            2000000             2000000   \n",
       "1  23722.888664199487  984.4668735599992        483.17466255   \n",
       "2  1986383.1808735013  86174.82585202357  1491.4761059171824   \n",
       "3             -9728.0         -9392000.0                 0.0   \n",
       "4             2.244E8            1.116E7             98920.0   \n",
       "\n",
       "                    MEM  \n",
       "0               2000000  \n",
       "1  0.003385164999998239  \n",
       "2  0.010943425779985885  \n",
       "3                   0.0  \n",
       "4                  0.44  "
      ]
     },
     "execution_count": 16,
     "metadata": {},
     "output_type": "execute_result"
    }
   ],
   "source": [
    "final_memory_df.select([c for c in final_memory_df.columns if c not in {'CMD','attack', 'type'}])\\\n",
    "    .describe().toPandas()"
   ]
  },
  {
   "cell_type": "code",
   "execution_count": 17,
   "metadata": {
    "ExecuteTime": {
     "end_time": "2020-10-04T08:49:21.872011Z",
     "start_time": "2020-10-04T08:49:21.867264Z"
    }
   },
   "outputs": [],
   "source": [
    "# creating function to get top ten values for each categorical column\n",
    "\n",
    "def top_ten(df, col_name):\n",
    "    \n",
    "    top_ten =  df.select(col_name).groupby(col_name)\\\n",
    "    .agg(F.count(col_name).alias('Count')).sort(\"Count\", ascending=False)\n",
    "\n",
    "    top_ten.show(10)"
   ]
  },
  {
   "cell_type": "code",
   "execution_count": 18,
   "metadata": {
    "ExecuteTime": {
     "end_time": "2020-10-04T08:49:27.806628Z",
     "start_time": "2020-10-04T08:49:21.877310Z"
    }
   },
   "outputs": [
    {
     "name": "stdout",
     "output_type": "stream",
     "text": [
      "+----------+------+\n",
      "|       CMD| Count|\n",
      "+----------+------+\n",
      "|      atop|325985|\n",
      "|   apache2| 89761|\n",
      "| jfsCommit| 81714|\n",
      "|  vmtoolsd| 77871|\n",
      "|      Xorg| 49981|\n",
      "|  nautilus| 48356|\n",
      "|irqbalance| 44387|\n",
      "|    compiz| 44356|\n",
      "|  ostinato| 43024|\n",
      "|     drone| 41392|\n",
      "+----------+------+\n",
      "only showing top 10 rows\n",
      "\n",
      "+----+-------+\n",
      "|POLI|  Count|\n",
      "+----+-------+\n",
      "|norm|1861558|\n",
      "|   0|  53216|\n",
      "|   -|  13194|\n",
      "+----+-------+\n",
      "\n",
      "+------+-------+\n",
      "|Status|  Count|\n",
      "+------+-------+\n",
      "|     -|1416322|\n",
      "|     0| 438984|\n",
      "|    NE|  48602|\n",
      "|     N|  23313|\n",
      "|    NS|    743|\n",
      "|     C|      3|\n",
      "|    NC|      1|\n",
      "+------+-------+\n",
      "\n",
      "+-----+-------+\n",
      "|State|  Count|\n",
      "+-----+-------+\n",
      "|    S|1676350|\n",
      "|    I|  98986|\n",
      "|    R|  84753|\n",
      "|    E|  66410|\n",
      "|    Z|   1118|\n",
      "|    D|    344|\n",
      "|    T|      7|\n",
      "+-----+-------+\n",
      "\n",
      "+--------------+------+\n",
      "|           CMD| Count|\n",
      "+--------------+------+\n",
      "|          atop|441180|\n",
      "|       apache2|313143|\n",
      "|      vmtoolsd|112029|\n",
      "|          Xorg| 66813|\n",
      "|      nautilus| 63449|\n",
      "|gnome-terminal| 47628|\n",
      "|        compiz| 44386|\n",
      "|    irqbalance| 44324|\n",
      "|      ostinato| 42979|\n",
      "|         drone| 41390|\n",
      "+--------------+------+\n",
      "only showing top 10 rows\n",
      "\n"
     ]
    }
   ],
   "source": [
    "top_ten(final_memory_df, \"CMD\")\n",
    "top_ten(process_df, \"POLI\")\n",
    "top_ten(process_df, \"Status\")\n",
    "top_ten(process_df, \"State\")\n",
    "top_ten(process_df, \"CMD\")"
   ]
  },
  {
   "cell_type": "markdown",
   "metadata": {},
   "source": [
    "#### 1.3.3 Visualisation"
   ]
  },
  {
   "cell_type": "markdown",
   "metadata": {},
   "source": [
    "Our dataset consists of data over a time span of a few weeks (graph not shown due to limit in assignment specs). Hacking took place on a few consecutive days within these few weeks. Since our model should be useful for future use, it doesn not make much sense to use the data in our model, as it is unlikely that the hackers would choose the same dates again to hack. However, the time of the day might be useful in determening when hacking occurs. So the hour will be plotted against the attack information."
   ]
  },
  {
   "cell_type": "code",
   "execution_count": 19,
   "metadata": {
    "ExecuteTime": {
     "end_time": "2020-10-04T08:49:27.874057Z",
     "start_time": "2020-10-04T08:49:27.808949Z"
    }
   },
   "outputs": [],
   "source": [
    "# this was used for analysis but won't be plotted\n",
    "\n",
    "from datetime import datetime\n",
    "\n",
    "# extracting date\n",
    "def date_func(ts):\n",
    "    return datetime.fromtimestamp(ts).date()\n",
    "\n",
    "# creating udf which calles the function from above\n",
    "udf_date = F.udf(date_func, DateType())\n",
    "\n",
    "# creating date column\n",
    "process_df = process_df.withColumn(\"date\", udf_date(\"ts\"))\n",
    "\n"
   ]
  },
  {
   "cell_type": "code",
   "execution_count": 20,
   "metadata": {
    "ExecuteTime": {
     "end_time": "2020-10-04T08:49:27.914945Z",
     "start_time": "2020-10-04T08:49:27.875646Z"
    }
   },
   "outputs": [],
   "source": [
    "# same as above but for hour\n",
    "\n",
    "def hour_func(ts):\n",
    "    return datetime.fromtimestamp(ts).hour\n",
    "\n",
    "udf_hour = F.udf(hour_func, IntegerType())\n",
    "\n",
    "process_df = process_df.withColumn(\"hour\", udf_hour(\"ts\"))"
   ]
  },
  {
   "cell_type": "code",
   "execution_count": 21,
   "metadata": {
    "ExecuteTime": {
     "end_time": "2020-10-04T08:49:57.790480Z",
     "start_time": "2020-10-04T08:49:27.916414Z"
    }
   },
   "outputs": [
    {
     "data": {
      "image/png": "[encoded data removed]",
      "text/plain": [
       "<Figure size 432x288 with 1 Axes>"
      ]
     },
     "metadata": {
      "needs_background": "light"
     },
     "output_type": "display_data"
    }
   ],
   "source": [
    "#compare attack and no attack activity for each hour\n",
    "\n",
    "hour_0 = process_df.select(\"attack\", \"hour\").filter(col(\"attack\") == 0).groupby(\"hour\")\\\n",
    ".agg(F.count(\"attack\").alias('count')).rdd.map(lambda x: (x[0],x[1])).collect()\n",
    "\n",
    "\n",
    "hour_1 = process_df.select(\"attack\", \"hour\").filter(col(\"attack\") == 1).groupby(\"hour\")\\\n",
    ".agg(F.count(\"attack\").alias('count')).rdd.map(lambda x: (x[0],x[1])).collect()\n",
    "\n",
    "# extract hour and count\n",
    "x = [item[0] for item in hour_0]\n",
    "y = [item[1] for item in hour_0]\n",
    "\n",
    "x_2 = [item[0] for item in hour_1]\n",
    "y_2= [item[1] for item in hour_1]\n",
    "\n",
    "%matplotlib inline\n",
    "\n",
    "import matplotlib.pyplot as plt\n",
    "\n",
    "plt.bar(x, y)\n",
    "plt.bar(x_2, y_2)\n",
    "plt.title(\"Attack vs no attack by hour\")\n",
    "plt.xlabel('Hour')\n",
    "plt.ylabel('Number of activities')\n",
    "plt.show()"
   ]
  },
  {
   "cell_type": "markdown",
   "metadata": {
    "ExecuteTime": {
     "end_time": "2020-10-02T07:11:17.238368Z",
     "start_time": "2020-10-02T07:11:16.813969Z"
    }
   },
   "source": [
    "From the plot above we can see that there is no very significant difference in hacking activity, however, there is more hacking activity between 1am and 12pm as well as in the early evening. The normal activities are highest in the late evening.\n",
    "\n",
    "For the memory dataframe the hourly activity was checked as well, however, the trend was even less significant and thus will not be further explored.\n",
    "\n",
    "Next, we will have a look at a correlation matrix to see which columns have the largest correlation with the attack activity."
   ]
  },
  {
   "cell_type": "code",
   "execution_count": 22,
   "metadata": {
    "ExecuteTime": {
     "end_time": "2020-10-04T08:50:03.708246Z",
     "start_time": "2020-10-04T08:49:57.813913Z"
    }
   },
   "outputs": [
    {
     "data": {
      "image/png": "[encoded data removed]",
      "text/plain": [
       "<Figure size 432x288 with 2 Axes>"
      ]
     },
     "metadata": {
      "needs_background": "light"
     },
     "output_type": "display_data"
    }
   ],
   "source": [
    "# !pip install seaborn\n",
    "import seaborn as sns\n",
    "\n",
    "# get numeric features and take sample of dataframe\n",
    "process_sample = process_df.select(\"TRUN\", \"TSLPI\", \"TSLPU\", \"NICE\", \"PRI\", \"CPU\", \"EXC\", \"CPUNR\", \"hour\", \"ts\", \"attack\")\\\n",
    ".sample(False, 0.001, seed=30).toPandas()\n",
    "\n",
    "\n",
    "sns.heatmap(process_sample.corr()).set_title('Correlation Matrix for Process Data');"
   ]
  },
  {
   "cell_type": "markdown",
   "metadata": {},
   "source": [
    "The correlation matrix for the process data shows us the relationship between each of the columns. Values close to 1 show a very strong positive correlation, and values close to -1 show a strongly negative correlation. Values close to zero indicate that there is no correlation between two features. \n",
    "\n",
    " We can see that attack is not strongly correlated to any of the features. There is a fairly weak correlation between attack and Status, TSLPI, PRI and EXC. It seems that TSLPU could not be evaluated. This might be because its value is mostly zero (when looking at the summary statistics). The strongest correlation overall seems to be between CPU and TRUN. "
   ]
  },
  {
   "cell_type": "code",
   "execution_count": 23,
   "metadata": {
    "ExecuteTime": {
     "end_time": "2020-10-04T08:50:04.799013Z",
     "start_time": "2020-10-04T08:50:03.717244Z"
    }
   },
   "outputs": [
    {
     "data": {
      "image/png": "[encoded data removed]",
      "text/plain": [
       "<Figure size 432x288 with 2 Axes>"
      ]
     },
     "metadata": {
      "needs_background": "light"
     },
     "output_type": "display_data"
    }
   ],
   "source": [
    "memory_sample = final_memory_df.select(\"MINFLT\", \"MAJFLT\", \"VSTEXT\", \"VSIZE\", \"RSIZE\",\"VGROW\", \"RGROW\", \"MEM\", \"ts\", \"attack\")\\\n",
    ".sample(False, 0.001, seed=30).toPandas()\n",
    "\n",
    "memory_sample\n",
    "\n",
    "sns.heatmap(memory_sample.corr()).set_title('Correlation Matrix for Memory Data');"
   ]
  },
  {
   "cell_type": "markdown",
   "metadata": {},
   "source": [
    "The correlation matrix for the memory data shows that there are also no strong correlations between attack and any of the features, however, MINFLT, MAJFLT and VSTEXT are weakly correlated to attack. R-Size and VGROW seem to be weakly to moderately correlated to these three columns."
   ]
  },
  {
   "cell_type": "code",
   "execution_count": 24,
   "metadata": {
    "ExecuteTime": {
     "end_time": "2020-10-04T08:50:04.968315Z",
     "start_time": "2020-10-04T08:50:04.802556Z"
    }
   },
   "outputs": [
    {
     "data": {
      "image/png": "[encoded data removed]",
      "text/plain": [
       "<Figure size 432x288 with 1 Axes>"
      ]
     },
     "metadata": {
      "needs_background": "light"
     },
     "output_type": "display_data"
    }
   ],
   "source": [
    "minflt_bplot = sns.boxplot(x='attack',y='RSIZE', data=memory_sample, width=0.5, showfliers=False)\n",
    "minflt_bplot.set_title(\"RSIZE vs attack\")\n",
    "plt.show()"
   ]
  },
  {
   "cell_type": "markdown",
   "metadata": {},
   "source": [
    "In the box plot below we see the spread of the data for RSIZE depending on whether there was an attack or no attack. Even though RSIZE did not show any significant correlation with attack, there is still an interesting pattern to see, as the RSIZE varies significantly more when there was an attack then when there wasn't. The median seems to be very similar, however, the IQR is much larger for attack events. It ranged from around 0 to around 8000, whereas for non attack events it ranges from around 0 to around 2500 only. So RSIZE might still be a good feature for our model."
   ]
  },
  {
   "cell_type": "markdown",
   "metadata": {},
   "source": [
    "## Feature extraction and ML training"
   ]
  },
  {
   "cell_type": "markdown",
   "metadata": {},
   "source": [
    "### 2.1 Preparig the training data and testing data"
   ]
  },
  {
   "cell_type": "markdown",
   "metadata": {},
   "source": [
    "#### 2.1.1 Randomly splitting data into train and test"
   ]
  },
  {
   "cell_type": "code",
   "execution_count": 25,
   "metadata": {
    "ExecuteTime": {
     "end_time": "2020-10-04T08:50:05.031062Z",
     "start_time": "2020-10-04T08:50:04.971568Z"
    }
   },
   "outputs": [],
   "source": [
    "#Splitting the data into testing and training set 80% for training and 20% for testing\n",
    "\n",
    "process_train_temp, process_test = process_df.randomSplit([0.8, 0.2], seed=30)\n",
    "memory_train_temp, memory_test = final_memory_df.randomSplit([0.8, 0.2], seed=30)"
   ]
  },
  {
   "cell_type": "markdown",
   "metadata": {},
   "source": [
    "#### 2.1.2 Rebalancing the data"
   ]
  },
  {
   "cell_type": "code",
   "execution_count": 26,
   "metadata": {
    "ExecuteTime": {
     "end_time": "2020-10-04T08:50:05.045961Z",
     "start_time": "2020-10-04T08:50:05.036085Z"
    }
   },
   "outputs": [],
   "source": [
    "def rebalance(df):\n",
    "    \n",
    "    # taking 20% of the attack data\n",
    "    temp_attack = df.filter(col(\"attack\")==1).sample(False,0.2,seed=30)\n",
    "    print(\"attacks: \", temp_attack.count())\n",
    "    \n",
    "    # calculating percentage of how much no attack data we need\n",
    "    percentage = round(2* temp_attack.count() / df.filter(col(\"attack\")==0).count(),4)\n",
    "    \n",
    "    # taking double the amount of attack data of the no attack data\n",
    "    temp_normal = df.filter(col(\"attack\")==0).sample(False,percentage,seed=30)\n",
    "    print(\"no attack: \", temp_normal.count())\n",
    "    \n",
    "    print(\"attack + no attack: \", (temp_attack.count() + temp_normal.count()))\n",
    "    \n",
    "    # union of the two dataframes\n",
    "    new_df = temp_attack.union(temp_normal)\n",
    "    \n",
    "    return new_df"
   ]
  },
  {
   "cell_type": "code",
   "execution_count": 27,
   "metadata": {
    "ExecuteTime": {
     "end_time": "2020-10-04T08:51:03.689553Z",
     "start_time": "2020-10-04T08:50:05.053919Z"
    }
   },
   "outputs": [
    {
     "name": "stdout",
     "output_type": "stream",
     "text": [
      "attacks:  46676\n",
      "no attack:  93238\n",
      "attack + no attack:  139914\n"
     ]
    },
    {
     "data": {
      "text/plain": [
       "DataFrame[ts: int, PID: int, TRUN: int, TSLPI: int, TSLPU: int, POLI: string, NICE: int, PRI: int, RTPR: int, CPUNR: int, Status: string, EXC: int, State: string, CPU: double, CMD: string, attack: int, type: string, date: date, hour: int]"
      ]
     },
     "execution_count": 27,
     "metadata": {},
     "output_type": "execute_result"
    }
   ],
   "source": [
    "process_train = rebalance(process_train_temp)\n",
    "process_train.cache()"
   ]
  },
  {
   "cell_type": "code",
   "execution_count": 28,
   "metadata": {
    "ExecuteTime": {
     "end_time": "2020-10-04T08:51:07.868552Z",
     "start_time": "2020-10-04T08:51:03.692853Z"
    }
   },
   "outputs": [
    {
     "name": "stdout",
     "output_type": "stream",
     "text": [
      "attacks:  33094\n",
      "no attack:  66287\n",
      "attack + no attack:  99381\n"
     ]
    },
    {
     "data": {
      "text/plain": [
       "DataFrame[ts: int, PID: int, MINFLT: double, MAJFLT: double, VSTEXT: double, VSIZE: double, RSIZE: double, VGROW: double, RGROW: double, MEM: double, CMD: string, attack: int, type: string]"
      ]
     },
     "execution_count": 28,
     "metadata": {},
     "output_type": "execute_result"
    }
   ],
   "source": [
    "memory_train = rebalance(memory_train_temp)\n",
    "memory_train.cache()"
   ]
  },
  {
   "cell_type": "markdown",
   "metadata": {},
   "source": [
    "### 2.2 Preparing features, labels and models"
   ]
  },
  {
   "cell_type": "markdown",
   "metadata": {},
   "source": [
    "#### 2.2.1 Feature selection"
   ]
  },
  {
   "cell_type": "markdown",
   "metadata": {},
   "source": [
    "From the visualisation above we could see that are no strong or moderate correlations between attack and any of the features. This was the same for process and memory data. Also the feature engineered column \"hour\" did  not show any significant trend so we will not further consider it. ts also did not show any significant correlation with attack, and as mentioned further above, might not be that useful, because we cannot assume that attacks will happen on the same dates again in the future. It is thus not a suitable feature. \n",
    "\n",
    "We could observe some week correlations with attack, and some interesting trend for RSIZE in the memory dataset. So based on these observations the feature selection will be performed.\n",
    "\n",
    "Process data:\n",
    "\n",
    "- POLI\n",
    "- Status\n",
    "- TSLPI\n",
    "- PRI\n",
    "- EXC\n",
    "\n",
    "POLI and Status are categorical data and for them string indexing and one hot encoding will be performed. EXC is numerical, however, the numbers don't have any ordinal meaning, thus it makes sense to also use one hot encoding for EXC. Then vector assembler will be used on all features. \n",
    "\n",
    "Memory data:\n",
    "\n",
    "- MINFLT\n",
    "- MAJFLT\n",
    "- VSTEXT\n",
    "- RSIZE\n",
    "\n",
    "These are all numerical features and thus we can straight away use vector assembler.\n",
    "\n",
    "We do not need to scale any of the features, as Decision Tree based models (like GBT) do not required scaled data because the distance between features is not relevant."
   ]
  },
  {
   "cell_type": "markdown",
   "metadata": {},
   "source": [
    "#### 2.2.2 Create Transformers / Etimators"
   ]
  },
  {
   "cell_type": "markdown",
   "metadata": {},
   "source": [
    "Below reduced dataframes are created containing the selected features. The column name \"attack\" is changed to \"label\" as this is required for the model building stages."
   ]
  },
  {
   "cell_type": "code",
   "execution_count": 29,
   "metadata": {
    "ExecuteTime": {
     "end_time": "2020-10-04T08:51:09.785846Z",
     "start_time": "2020-10-04T08:51:07.871096Z"
    }
   },
   "outputs": [
    {
     "name": "stdout",
     "output_type": "stream",
     "text": [
      "+----+------+-----+---+---+-----+\n",
      "|POLI|Status|TSLPI|PRI|EXC|label|\n",
      "+----+------+-----+---+---+-----+\n",
      "|norm|     N|    1|120|  0|    1|\n",
      "|norm|     N|    1|120|  0|    1|\n",
      "|norm|     N|    1|120|  0|    1|\n",
      "+----+------+-----+---+---+-----+\n",
      "only showing top 3 rows\n",
      "\n",
      "+------+------+-------+-----+-----+\n",
      "|MINFLT|MAJFLT| VSTEXT|RSIZE|label|\n",
      "+------+------+-------+-----+-----+\n",
      "|   0.0|   0.0|    0.0|  0.0|    1|\n",
      "| 132.0| 267.8|13664.0|  0.0|    1|\n",
      "| 132.0| 224.2| 9336.0|  0.0|    1|\n",
      "+------+------+-------+-----+-----+\n",
      "only showing top 3 rows\n",
      "\n"
     ]
    }
   ],
   "source": [
    "from pyspark.ml.feature import StringIndexer\n",
    "from pyspark.ml.feature import OneHotEncoder\n",
    "from pyspark.ml.feature import VectorAssembler\n",
    "from pyspark.ml import Pipeline\n",
    "from pyspark.ml.classification import DecisionTreeClassifier, GBTClassifier\n",
    "\n",
    "# use the features as discussed above\n",
    "process_cols=['POLI', 'Status', 'TSLPI', 'PRI', 'EXC', 'attack']\n",
    "process_reduced = process_train[process_cols]\n",
    "\n",
    "# change name of column from attack to label\n",
    "process_reduced = process_reduced.withColumnRenamed(\"attack\", \"label\")\n",
    "process_reduced.show(3)\n",
    "\n",
    "# use the features as discussed above\n",
    "memory_cols=['MINFLT', 'MAJFLT', 'VSTEXT', 'RSIZE', 'attack']\n",
    "memory_reduced = memory_train[memory_cols]\n",
    "\n",
    "# change name of column from attack to label\n",
    "memory_reduced = memory_reduced.withColumnRenamed(\"attack\", \"label\")\n",
    "memory_reduced.show(3)\n",
    "\n",
    "# change name of column from attack to label also in the test data\n",
    "process_test = process_test.withColumnRenamed(\"attack\", \"label\")\n",
    "memory_test = memory_test.withColumnRenamed(\"attack\", \"label\")"
   ]
  },
  {
   "cell_type": "markdown",
   "metadata": {},
   "source": [
    "As discussed above, for the process data we need to use string indexer, one hot encoder and then vector assembler."
   ]
  },
  {
   "cell_type": "code",
   "execution_count": 30,
   "metadata": {
    "ExecuteTime": {
     "end_time": "2020-10-04T08:51:09.868200Z",
     "start_time": "2020-10-04T08:51:09.787578Z"
    }
   },
   "outputs": [
    {
     "name": "stdout",
     "output_type": "stream",
     "text": [
      "['POLI_vec', 'Status_vec', 'EXC_vec']\n",
      "['POLI_vec', 'Status_vec', 'EXC_vec', 'TSLPI', 'PRI']\n"
     ]
    }
   ],
   "source": [
    "# get all string type features\n",
    "string_cols = [f.name for f in process_reduced.schema.fields if isinstance(f.dataType, StringType)]\n",
    "\n",
    "# prepare string indexer\n",
    "inputCols = [x for x in process_reduced.columns if x in string_cols]\n",
    "outputCols = [f\"{x}_idx\" for x in process_reduced.columns if x in string_cols]\n",
    "\n",
    "str_indexer = StringIndexer(inputCols=inputCols, outputCols=outputCols).setHandleInvalid(\"keep\")\n",
    "\n",
    "# prepare one hot encoder\n",
    "inputCols_OHE = [x for x in outputCols] + [\"EXC\"]\n",
    "outputCols_OHE = [f'{x}_vec' for x in (inputCols + [\"EXC\"])]\n",
    "\n",
    "ohc = OneHotEncoder(inputCols=inputCols_OHE,\n",
    "                        outputCols=outputCols_OHE)\n",
    "\n",
    "# prepare vector assembler\n",
    "inputCols_VA = [x for x in outputCols_OHE]\\\n",
    "+[x for x in process_reduced.columns if x not in string_cols and x != \"EXC\" and x != \"label\"]\n",
    "\n",
    "process_assembler = VectorAssembler(inputCols=inputCols_VA, outputCol=\"features\")\n",
    "\n",
    "# check results of steps above\n",
    "print(outputCols_OHE)\n",
    "print(inputCols_VA)"
   ]
  },
  {
   "cell_type": "markdown",
   "metadata": {},
   "source": [
    "As the features selected for the memory data are numerical we can straight away use the vector assembler"
   ]
  },
  {
   "cell_type": "code",
   "execution_count": 31,
   "metadata": {
    "ExecuteTime": {
     "end_time": "2020-10-04T08:51:09.888863Z",
     "start_time": "2020-10-04T08:51:09.869621Z"
    }
   },
   "outputs": [],
   "source": [
    "# preparing vector assembler\n",
    "mem_assembler = VectorAssembler(\n",
    "    inputCols= [col for col in memory_reduced.columns if col != \"label\"],\n",
    "    outputCol=\"features\")"
   ]
  },
  {
   "cell_type": "markdown",
   "metadata": {},
   "source": [
    "#### 2.2.3 Prepare Estimators for Decision Tree and Gradient Boosted Tree"
   ]
  },
  {
   "cell_type": "markdown",
   "metadata": {},
   "source": [
    "The decision tree and gradient boosted tree are initialised and will be amended using a parameter grid to find the most suitable parameters for the models. Due to computational limitations only a very limited amount of parameters could be tested. Of course, ideally, we would want to test a larger variety of parameters and some more values for each parameter. "
   ]
  },
  {
   "cell_type": "code",
   "execution_count": 32,
   "metadata": {
    "ExecuteTime": {
     "end_time": "2020-10-04T08:51:09.989182Z",
     "start_time": "2020-10-04T08:51:09.893955Z"
    }
   },
   "outputs": [],
   "source": [
    "# initialising decision tree and gradient boosted tree\n",
    "\n",
    "dt = DecisionTreeClassifier(featuresCol = 'features', \n",
    "                    labelCol = 'label', seed = 30)\n",
    "gbt = GBTClassifier(featuresCol = 'features', \n",
    "                    labelCol = 'label', seed = 30)\n"
   ]
  },
  {
   "cell_type": "code",
   "execution_count": 33,
   "metadata": {
    "ExecuteTime": {
     "end_time": "2020-10-04T08:51:10.008089Z",
     "start_time": "2020-10-04T08:51:09.993338Z"
    }
   },
   "outputs": [],
   "source": [
    "from pyspark.ml.tuning import ParamGridBuilder, CrossValidator,CrossValidatorModel\n",
    "from pyspark.ml.evaluation import BinaryClassificationEvaluator\n",
    "\n",
    "# Create parameter grid for cross validation\n",
    "\n",
    "dt_param_grid = (ParamGridBuilder()\n",
    "             .addGrid(dt.maxDepth, [5, 10, 20])\n",
    "             .addGrid(dt.maxBins, [20, 30, 40])\n",
    "             .build())\n",
    "\n",
    "gbt_param_grid = (ParamGridBuilder()\n",
    "                .addGrid(gbt.maxDepth, [5, 15])\n",
    "                .addGrid(gbt.maxIter, [10, 20])\n",
    "                .addGrid(gbt.stepSize, [0.1, 0.2])\n",
    "             .build())\n"
   ]
  },
  {
   "cell_type": "code",
   "execution_count": 34,
   "metadata": {
    "ExecuteTime": {
     "end_time": "2020-10-04T08:51:10.023636Z",
     "start_time": "2020-10-04T08:51:10.015298Z"
    }
   },
   "outputs": [],
   "source": [
    "# building all four pipelines (2 for process data and 2 for memory data)\n",
    "\n",
    "process_pipeline_dt =  Pipeline(stages=[str_indexer,ohc,process_assembler, dt])\n",
    "process_pipeline_gbt =  Pipeline(stages=[str_indexer,ohc,process_assembler, gbt])\n",
    "mem_pipeline_dt =  Pipeline(stages=[mem_assembler,dt])\n",
    "mem_pipeline_gbt =  Pipeline(stages=[mem_assembler,gbt])\n"
   ]
  },
  {
   "cell_type": "code",
   "execution_count": 35,
   "metadata": {
    "ExecuteTime": {
     "end_time": "2020-10-04T08:51:10.051180Z",
     "start_time": "2020-10-04T08:51:10.031194Z"
    }
   },
   "outputs": [],
   "source": [
    "# Define an evaluator to be used for evaluating the model \n",
    "evaluator = BinaryClassificationEvaluator(rawPredictionCol=\"rawPrediction\")\n",
    "\n",
    "# Create 3-fold CrossValidator\n",
    "dt_cv = CrossValidator(estimator = process_pipeline_dt,\n",
    "                      estimatorParamMaps = dt_param_grid,\n",
    "                      evaluator = evaluator,\n",
    "                      numFolds = 3)\n",
    "\n",
    "gbt_cv = CrossValidator(estimator = process_pipeline_gbt,\n",
    "                      estimatorParamMaps = gbt_param_grid,\n",
    "                      evaluator = evaluator,\n",
    "                      numFolds = 3)\n",
    "\n",
    "dt_cv_mem = CrossValidator(estimator = mem_pipeline_dt,\n",
    "                      estimatorParamMaps = dt_param_grid,\n",
    "                      evaluator = evaluator,\n",
    "                      numFolds = 3)\n",
    "\n",
    "gbt_cv_mem = CrossValidator(estimator = mem_pipeline_gbt,\n",
    "                      estimatorParamMaps = gbt_param_grid,\n",
    "                      evaluator = evaluator,\n",
    "                      numFolds = 3)\n",
    "\n"
   ]
  },
  {
   "cell_type": "markdown",
   "metadata": {},
   "source": [
    "### 2.3 Training and evaluating the models"
   ]
  },
  {
   "cell_type": "markdown",
   "metadata": {},
   "source": [
    "#### 2.3.1 Training the models"
   ]
  },
  {
   "cell_type": "code",
   "execution_count": 36,
   "metadata": {
    "ExecuteTime": {
     "end_time": "2020-10-04T09:31:14.703387Z",
     "start_time": "2020-10-04T08:51:10.053664Z"
    }
   },
   "outputs": [],
   "source": [
    "# train the models with the parameter grid and cross validation\n",
    "\n",
    "# for process data\n",
    "dt_cv_model = dt_cv.fit(process_reduced)\n",
    "gbt_cv_model = gbt_cv.fit(process_reduced)"
   ]
  },
  {
   "cell_type": "code",
   "execution_count": 37,
   "metadata": {
    "ExecuteTime": {
     "end_time": "2020-10-04T10:15:00.941519Z",
     "start_time": "2020-10-04T09:31:14.709958Z"
    }
   },
   "outputs": [],
   "source": [
    "# for memory data\n",
    "dt_cv_mem_model = dt_cv_mem.fit(memory_reduced)\n",
    "gbt_cv_mem_model = gbt_cv_mem.fit(memory_reduced)"
   ]
  },
  {
   "cell_type": "code",
   "execution_count": 38,
   "metadata": {
    "ExecuteTime": {
     "end_time": "2020-10-04T10:15:00.985684Z",
     "start_time": "2020-10-04T10:15:00.945249Z"
    }
   },
   "outputs": [
    {
     "name": "stdout",
     "output_type": "stream",
     "text": [
      "Best parameters for process DT:  {\n",
      "\tDecisionTreeClassifier_960162dca622-featuresCol: features,\n",
      "\tDecisionTreeClassifier_960162dca622-labelCol: label,\n",
      "\tDecisionTreeClassifier_960162dca622-maxBins: 20,\n",
      "\tDecisionTreeClassifier_960162dca622-maxDepth: 20,\n",
      "\tDecisionTreeClassifier_960162dca622-seed: 30\n",
      "}\n",
      "Best parameters for process GBT:  {\n",
      "\tGBTClassifier_7e190629308f-featuresCol: features,\n",
      "\tGBTClassifier_7e190629308f-labelCol: label,\n",
      "\tGBTClassifier_7e190629308f-maxDepth: 15,\n",
      "\tGBTClassifier_7e190629308f-maxIter: 20,\n",
      "\tGBTClassifier_7e190629308f-seed: 30,\n",
      "\tGBTClassifier_7e190629308f-stepSize: 0.1\n",
      "}\n"
     ]
    }
   ],
   "source": [
    "# get best model and print its parameters\n",
    "\n",
    "process_dt_best_model= dt_cv_model.bestModel\n",
    "print('Best parameters for process DT: ', process_dt_best_model.stages[-1]._java_obj.paramMap())\n",
    "process_dt_best_model= dt_cv_model.bestModel\n",
    "\n",
    "process_gbt_best_model= gbt_cv_model.bestModel\n",
    "print('Best parameters for process GBT: ', process_gbt_best_model.stages[-1]._java_obj.paramMap())\n",
    "process_gbt_best_model= gbt_cv_model.bestModel"
   ]
  },
  {
   "cell_type": "code",
   "execution_count": 39,
   "metadata": {
    "ExecuteTime": {
     "end_time": "2020-10-04T10:15:01.023863Z",
     "start_time": "2020-10-04T10:15:00.987747Z"
    }
   },
   "outputs": [
    {
     "name": "stdout",
     "output_type": "stream",
     "text": [
      "Best parameters for memory DT:  {\n",
      "\tDecisionTreeClassifier_960162dca622-featuresCol: features,\n",
      "\tDecisionTreeClassifier_960162dca622-labelCol: label,\n",
      "\tDecisionTreeClassifier_960162dca622-maxBins: 40,\n",
      "\tDecisionTreeClassifier_960162dca622-maxDepth: 20,\n",
      "\tDecisionTreeClassifier_960162dca622-seed: 30\n",
      "}\n",
      "Best parameters for memory GBT:  {\n",
      "\tGBTClassifier_7e190629308f-featuresCol: features,\n",
      "\tGBTClassifier_7e190629308f-labelCol: label,\n",
      "\tGBTClassifier_7e190629308f-maxDepth: 15,\n",
      "\tGBTClassifier_7e190629308f-maxIter: 20,\n",
      "\tGBTClassifier_7e190629308f-seed: 30,\n",
      "\tGBTClassifier_7e190629308f-stepSize: 0.2\n",
      "}\n"
     ]
    }
   ],
   "source": [
    "mem_dt_best_model= dt_cv_mem_model.bestModel\n",
    "#print(process_dt_best_model.stages)\n",
    "print('Best parameters for memory DT: ', mem_dt_best_model.stages[-1]._java_obj.paramMap())\n",
    "mem_dt_best_model= dt_cv_mem_model.bestModel\n",
    "\n",
    "mem_gbt_best_model= gbt_cv_mem_model.bestModel\n",
    "#print(process_dt_best_model.stages)\n",
    "print('Best parameters for memory GBT: ', mem_gbt_best_model.stages[-1]._java_obj.paramMap())\n",
    "mem_gbt_best_model= gbt_cv_mem_model.bestModel"
   ]
  },
  {
   "cell_type": "markdown",
   "metadata": {},
   "source": [
    "#### 2.3.2 Run model on test data and display confusion matrix"
   ]
  },
  {
   "cell_type": "code",
   "execution_count": 40,
   "metadata": {
    "ExecuteTime": {
     "end_time": "2020-10-04T10:15:01.385332Z",
     "start_time": "2020-10-04T10:15:01.033383Z"
    }
   },
   "outputs": [],
   "source": [
    "pred_process_dt = process_dt_best_model.transform(process_test)\n",
    "pred_process_gbt = process_gbt_best_model.transform(process_test)\n",
    "pred_mem_dt = mem_dt_best_model.transform(memory_test)\n",
    "pred_mem_gbt = mem_gbt_best_model.transform(memory_test)"
   ]
  },
  {
   "cell_type": "code",
   "execution_count": 41,
   "metadata": {
    "ExecuteTime": {
     "end_time": "2020-10-04T10:15:19.076537Z",
     "start_time": "2020-10-04T10:15:01.387691Z"
    }
   },
   "outputs": [
    {
     "name": "stdout",
     "output_type": "stream",
     "text": [
      "+-----+----------+------+\n",
      "|label|prediction| count|\n",
      "+-----+----------+------+\n",
      "|    1|       0.0| 41913|\n",
      "|    0|       0.0|298033|\n",
      "|    1|       1.0| 16261|\n",
      "|    0|       1.0| 28720|\n",
      "+-----+----------+------+\n",
      "\n",
      "+-----+----------+------+\n",
      "|label|prediction| count|\n",
      "+-----+----------+------+\n",
      "|    1|       0.0| 40560|\n",
      "|    0|       0.0|294800|\n",
      "|    1|       1.0| 17614|\n",
      "|    0|       1.0| 31953|\n",
      "+-----+----------+------+\n",
      "\n"
     ]
    }
   ],
   "source": [
    "# show confusion matrix\n",
    "\n",
    "def conf_matrix(prediction):\n",
    "    prediction.groupBy('label', 'prediction').count().show()\n",
    "\n",
    "conf_matrix(pred_process_dt)\n",
    "conf_matrix(pred_process_gbt)\n",
    "\n"
   ]
  },
  {
   "cell_type": "code",
   "execution_count": 42,
   "metadata": {
    "ExecuteTime": {
     "end_time": "2020-10-04T10:15:42.545945Z",
     "start_time": "2020-10-04T10:15:19.078911Z"
    }
   },
   "outputs": [
    {
     "name": "stdout",
     "output_type": "stream",
     "text": [
      "+-----+----------+------+\n",
      "|label|prediction| count|\n",
      "+-----+----------+------+\n",
      "|    1|       0.0| 17543|\n",
      "|    0|       0.0|318329|\n",
      "|    1|       1.0| 23247|\n",
      "|    0|       1.0| 40348|\n",
      "+-----+----------+------+\n",
      "\n",
      "+-----+----------+------+\n",
      "|label|prediction| count|\n",
      "+-----+----------+------+\n",
      "|    1|       0.0| 17938|\n",
      "|    0|       0.0|315087|\n",
      "|    1|       1.0| 22852|\n",
      "|    0|       1.0| 43590|\n",
      "+-----+----------+------+\n",
      "\n"
     ]
    }
   ],
   "source": [
    "conf_matrix(pred_mem_dt)\n",
    "conf_matrix(pred_mem_gbt)"
   ]
  },
  {
   "cell_type": "markdown",
   "metadata": {},
   "source": [
    "#### 2.3.3 Evaluation metrics"
   ]
  },
  {
   "cell_type": "code",
   "execution_count": 43,
   "metadata": {
    "ExecuteTime": {
     "end_time": "2020-10-04T10:15:42.794924Z",
     "start_time": "2020-10-04T10:15:42.551667Z"
    }
   },
   "outputs": [],
   "source": [
    "def metrics(prediction):\n",
    "\n",
    "    TN = prediction.filter('prediction = 0 AND label = 0').count()\n",
    "    TP = prediction.filter('prediction = 1 AND label = 1').count()\n",
    "    FN = prediction.filter('prediction = 0 AND label = 1').count() \n",
    "    FP = prediction.filter('prediction = 1 AND label = 0').count() \n",
    "    \n",
    "    accuracy = (TP+TN)/(TP+TN+FP+FN) \n",
    "    precision = TP/(TP+FP) \n",
    "    recall = TP/(TP+FN) \n",
    "    \n",
    "    evaluator = BinaryClassificationEvaluator(rawPredictionCol=\"rawPrediction\", labelCol='label')\n",
    "    auc = evaluator.evaluate(prediction)\n",
    "    \n",
    "    print('AUC: %f\\nAccuracy: %f\\nPrecision: %f\\nRecall: %f\\n' % (auc,accuracy,precision,recall))\n",
    "    "
   ]
  },
  {
   "cell_type": "code",
   "execution_count": 44,
   "metadata": {
    "ExecuteTime": {
     "end_time": "2020-10-04T10:18:03.556558Z",
     "start_time": "2020-10-04T10:15:42.807536Z"
    },
    "scrolled": true
   },
   "outputs": [
    {
     "name": "stdout",
     "output_type": "stream",
     "text": [
      "AUC: 0.491938\n",
      "Accuracy: 0.816503\n",
      "Precision: 0.361508\n",
      "Recall: 0.279523\n",
      "\n",
      "AUC: 0.705533\n",
      "Accuracy: 0.811619\n",
      "Precision: 0.355357\n",
      "Recall: 0.302781\n",
      "\n"
     ]
    }
   ],
   "source": [
    "metrics(pred_process_dt)\n",
    "metrics(pred_process_gbt)"
   ]
  },
  {
   "cell_type": "code",
   "execution_count": 45,
   "metadata": {
    "ExecuteTime": {
     "end_time": "2020-10-04T10:18:23.812793Z",
     "start_time": "2020-10-04T10:18:03.560403Z"
    }
   },
   "outputs": [
    {
     "name": "stdout",
     "output_type": "stream",
     "text": [
      "AUC: 0.609937\n",
      "Accuracy: 0.855079\n",
      "Precision: 0.365548\n",
      "Recall: 0.569919\n",
      "\n",
      "AUC: 0.836098\n",
      "Accuracy: 0.845975\n",
      "Precision: 0.343939\n",
      "Recall: 0.560235\n",
      "\n"
     ]
    }
   ],
   "source": [
    "metrics(pred_mem_dt)\n",
    "metrics(pred_mem_gbt)"
   ]
  },
  {
   "cell_type": "markdown",
   "metadata": {},
   "source": [
    "The AUC is a good overall metric for classification problems because it tells us how well the model can distinguish between two classes (0 and 1). An AUC of 0.5 means the model is as good as a random guess and an AUC of 1 means the model can perfectly distinguish between the classes. Thus, it is a good metric to evaluate our model. Another good measure in our scenario would be recall, because recall tells us how many of the positive cases we actually classified as positive. Since attacks can have serious consequences, we would want to put emphasis on recall. Accuracy is not a very good measure for imbalanced classes because if the model always predicts the class which occurs more frequently, it would still get a high accuracy even though the class with the lower frequency will not be predicted correctly at all (e.g. in our case we would get an accuracy of 0.66 if the model always predicts no attack happens).\n",
    "\n",
    "In conclusion, we will focus on AUC and recall."
   ]
  },
  {
   "cell_type": "markdown",
   "metadata": {},
   "source": [
    "#### 2.3.4 Top features and ROC curve"
   ]
  },
  {
   "cell_type": "code",
   "execution_count": 46,
   "metadata": {
    "ExecuteTime": {
     "end_time": "2020-10-04T10:18:23.833915Z",
     "start_time": "2020-10-04T10:18:23.816726Z"
    }
   },
   "outputs": [],
   "source": [
    "import pandas as pd\n",
    "\n",
    "def feature_importance(featureImp, dataset, featuresCol):\n",
    "    list_extract = []\n",
    "    for i in dataset.schema[featuresCol].metadata[\"ml_attr\"][\"attrs\"]:\n",
    "        list_extract = list_extract + dataset.schema[featuresCol].metadata[\"ml_attr\"][\"attrs\"][i]\n",
    "    varlist = pd.DataFrame(list_extract)\n",
    "    varlist['score'] = varlist['idx'].apply(lambda x: featureImp[x])\n",
    "    return(varlist.sort_values('score', ascending = False))\n",
    "\n"
   ]
  },
  {
   "cell_type": "markdown",
   "metadata": {},
   "source": [
    "Lin, T. (2018). *Feature Selection Using Feature Importance Score - Creating a PySpark Estimator*. Retrieved from: https://www.timlrx.com/2018/06/19/feature-selection-using-feature-importance-score-creating-a-pyspark-estimator/"
   ]
  },
  {
   "cell_type": "code",
   "execution_count": 47,
   "metadata": {
    "ExecuteTime": {
     "end_time": "2020-10-04T10:18:24.014900Z",
     "start_time": "2020-10-04T10:18:23.842608Z"
    }
   },
   "outputs": [
    {
     "data": {
      "text/html": [
       "<div>\n",
       "<style scoped>\n",
       "    .dataframe tbody tr th:only-of-type {\n",
       "        vertical-align: middle;\n",
       "    }\n",
       "\n",
       "    .dataframe tbody tr th {\n",
       "        vertical-align: top;\n",
       "    }\n",
       "\n",
       "    .dataframe thead th {\n",
       "        text-align: right;\n",
       "    }\n",
       "</style>\n",
       "<table border=\"1\" class=\"dataframe\">\n",
       "  <thead>\n",
       "    <tr style=\"text-align: right;\">\n",
       "      <th></th>\n",
       "      <th>idx</th>\n",
       "      <th>name</th>\n",
       "      <th>score</th>\n",
       "    </tr>\n",
       "  </thead>\n",
       "  <tbody>\n",
       "    <tr>\n",
       "      <th>5</th>\n",
       "      <td>3</td>\n",
       "      <td>Status_vec_-</td>\n",
       "      <td>0.545132</td>\n",
       "    </tr>\n",
       "    <tr>\n",
       "      <th>0</th>\n",
       "      <td>136</td>\n",
       "      <td>TSLPI</td>\n",
       "      <td>0.215767</td>\n",
       "    </tr>\n",
       "    <tr>\n",
       "      <th>1</th>\n",
       "      <td>137</td>\n",
       "      <td>PRI</td>\n",
       "      <td>0.103021</td>\n",
       "    </tr>\n",
       "    <tr>\n",
       "      <th>3</th>\n",
       "      <td>1</td>\n",
       "      <td>POLI_vec_0</td>\n",
       "      <td>0.064997</td>\n",
       "    </tr>\n",
       "    <tr>\n",
       "      <th>2</th>\n",
       "      <td>0</td>\n",
       "      <td>POLI_vec_norm</td>\n",
       "      <td>0.054939</td>\n",
       "    </tr>\n",
       "    <tr>\n",
       "      <th>6</th>\n",
       "      <td>4</td>\n",
       "      <td>Status_vec_0</td>\n",
       "      <td>0.012107</td>\n",
       "    </tr>\n",
       "    <tr>\n",
       "      <th>26</th>\n",
       "      <td>24</td>\n",
       "      <td>EXC_vec_15</td>\n",
       "      <td>0.002488</td>\n",
       "    </tr>\n",
       "    <tr>\n",
       "      <th>11</th>\n",
       "      <td>9</td>\n",
       "      <td>EXC_vec_0</td>\n",
       "      <td>0.001283</td>\n",
       "    </tr>\n",
       "    <tr>\n",
       "      <th>18</th>\n",
       "      <td>16</td>\n",
       "      <td>EXC_vec_7</td>\n",
       "      <td>0.000177</td>\n",
       "    </tr>\n",
       "    <tr>\n",
       "      <th>10</th>\n",
       "      <td>8</td>\n",
       "      <td>Status_vec_C</td>\n",
       "      <td>0.000088</td>\n",
       "    </tr>\n",
       "  </tbody>\n",
       "</table>\n",
       "</div>"
      ],
      "text/plain": [
       "    idx           name     score\n",
       "5     3   Status_vec_-  0.545132\n",
       "0   136          TSLPI  0.215767\n",
       "1   137            PRI  0.103021\n",
       "3     1     POLI_vec_0  0.064997\n",
       "2     0  POLI_vec_norm  0.054939\n",
       "6     4   Status_vec_0  0.012107\n",
       "26   24     EXC_vec_15  0.002488\n",
       "11    9      EXC_vec_0  0.001283\n",
       "18   16      EXC_vec_7  0.000177\n",
       "10    8   Status_vec_C  0.000088"
      ]
     },
     "execution_count": 47,
     "metadata": {},
     "output_type": "execute_result"
    }
   ],
   "source": [
    "# most important features for process data with DT\n",
    "feature_importance(process_dt_best_model.stages[-1]\\\n",
    "                  .featureImportances, process_dt_best_model.transform(process_reduced), \"features\").head(10)"
   ]
  },
  {
   "cell_type": "code",
   "execution_count": 48,
   "metadata": {
    "ExecuteTime": {
     "end_time": "2020-10-04T10:18:24.150607Z",
     "start_time": "2020-10-04T10:18:24.018763Z"
    }
   },
   "outputs": [
    {
     "data": {
      "text/html": [
       "<div>\n",
       "<style scoped>\n",
       "    .dataframe tbody tr th:only-of-type {\n",
       "        vertical-align: middle;\n",
       "    }\n",
       "\n",
       "    .dataframe tbody tr th {\n",
       "        vertical-align: top;\n",
       "    }\n",
       "\n",
       "    .dataframe thead th {\n",
       "        text-align: right;\n",
       "    }\n",
       "</style>\n",
       "<table border=\"1\" class=\"dataframe\">\n",
       "  <thead>\n",
       "    <tr style=\"text-align: right;\">\n",
       "      <th></th>\n",
       "      <th>idx</th>\n",
       "      <th>name</th>\n",
       "      <th>score</th>\n",
       "    </tr>\n",
       "  </thead>\n",
       "  <tbody>\n",
       "    <tr>\n",
       "      <th>5</th>\n",
       "      <td>3</td>\n",
       "      <td>Status_vec_-</td>\n",
       "      <td>0.409582</td>\n",
       "    </tr>\n",
       "    <tr>\n",
       "      <th>0</th>\n",
       "      <td>136</td>\n",
       "      <td>TSLPI</td>\n",
       "      <td>0.396905</td>\n",
       "    </tr>\n",
       "    <tr>\n",
       "      <th>1</th>\n",
       "      <td>137</td>\n",
       "      <td>PRI</td>\n",
       "      <td>0.099139</td>\n",
       "    </tr>\n",
       "    <tr>\n",
       "      <th>3</th>\n",
       "      <td>1</td>\n",
       "      <td>POLI_vec_0</td>\n",
       "      <td>0.046148</td>\n",
       "    </tr>\n",
       "    <tr>\n",
       "      <th>2</th>\n",
       "      <td>0</td>\n",
       "      <td>POLI_vec_norm</td>\n",
       "      <td>0.035198</td>\n",
       "    </tr>\n",
       "    <tr>\n",
       "      <th>6</th>\n",
       "      <td>4</td>\n",
       "      <td>Status_vec_0</td>\n",
       "      <td>0.008062</td>\n",
       "    </tr>\n",
       "    <tr>\n",
       "      <th>26</th>\n",
       "      <td>24</td>\n",
       "      <td>EXC_vec_15</td>\n",
       "      <td>0.002093</td>\n",
       "    </tr>\n",
       "    <tr>\n",
       "      <th>11</th>\n",
       "      <td>9</td>\n",
       "      <td>EXC_vec_0</td>\n",
       "      <td>0.000920</td>\n",
       "    </tr>\n",
       "    <tr>\n",
       "      <th>8</th>\n",
       "      <td>6</td>\n",
       "      <td>Status_vec_N</td>\n",
       "      <td>0.000624</td>\n",
       "    </tr>\n",
       "    <tr>\n",
       "      <th>111</th>\n",
       "      <td>109</td>\n",
       "      <td>EXC_vec_100</td>\n",
       "      <td>0.000247</td>\n",
       "    </tr>\n",
       "  </tbody>\n",
       "</table>\n",
       "</div>"
      ],
      "text/plain": [
       "     idx           name     score\n",
       "5      3   Status_vec_-  0.409582\n",
       "0    136          TSLPI  0.396905\n",
       "1    137            PRI  0.099139\n",
       "3      1     POLI_vec_0  0.046148\n",
       "2      0  POLI_vec_norm  0.035198\n",
       "6      4   Status_vec_0  0.008062\n",
       "26    24     EXC_vec_15  0.002093\n",
       "11     9      EXC_vec_0  0.000920\n",
       "8      6   Status_vec_N  0.000624\n",
       "111  109    EXC_vec_100  0.000247"
      ]
     },
     "execution_count": 48,
     "metadata": {},
     "output_type": "execute_result"
    }
   ],
   "source": [
    "# most important features for process data with GBT\n",
    "feature_importance(process_gbt_best_model.stages[-1]\\\n",
    "                  .featureImportances, process_gbt_best_model.transform(process_reduced), \"features\").head(10)"
   ]
  },
  {
   "cell_type": "markdown",
   "metadata": {},
   "source": [
    "The model consists only of 5 features, so there is no actual \"top-5\". We can see though that DT and GBT choose almost the same features as the most important ones. The most important one is Status, followed by TSLPI.\n",
    "\n",
    "Choosing the better model:\n",
    "\n",
    "When we look at the metrics for the process data we can see that decision tree gives an AUC of around 49% which is worse than just guessing, and a recall of only 28%. The GBT gives a significantly improved AUC of around 71% and roughly the same recall of around 30%. So we will choose the GBT model.\n",
    "\n",
    "As discussed further above, ts will not be considered for the model as we would not expect the hackers to plan attacks for the same days each year again. However, the timestamp shows us that once an attack has started, there are more attacks to follow with a very high chance, as all the attacks happened within consecutive days. \n",
    "\n",
    "Also the information which was extracted from ts, namely hour, was not that significant. "
   ]
  },
  {
   "cell_type": "code",
   "execution_count": 49,
   "metadata": {
    "ExecuteTime": {
     "end_time": "2020-10-04T10:18:24.222108Z",
     "start_time": "2020-10-04T10:18:24.156365Z"
    }
   },
   "outputs": [
    {
     "data": {
      "text/html": [
       "<div>\n",
       "<style scoped>\n",
       "    .dataframe tbody tr th:only-of-type {\n",
       "        vertical-align: middle;\n",
       "    }\n",
       "\n",
       "    .dataframe tbody tr th {\n",
       "        vertical-align: top;\n",
       "    }\n",
       "\n",
       "    .dataframe thead th {\n",
       "        text-align: right;\n",
       "    }\n",
       "</style>\n",
       "<table border=\"1\" class=\"dataframe\">\n",
       "  <thead>\n",
       "    <tr style=\"text-align: right;\">\n",
       "      <th></th>\n",
       "      <th>idx</th>\n",
       "      <th>name</th>\n",
       "      <th>score</th>\n",
       "    </tr>\n",
       "  </thead>\n",
       "  <tbody>\n",
       "    <tr>\n",
       "      <th>3</th>\n",
       "      <td>3</td>\n",
       "      <td>RSIZE</td>\n",
       "      <td>0.378355</td>\n",
       "    </tr>\n",
       "    <tr>\n",
       "      <th>0</th>\n",
       "      <td>0</td>\n",
       "      <td>MINFLT</td>\n",
       "      <td>0.306639</td>\n",
       "    </tr>\n",
       "    <tr>\n",
       "      <th>2</th>\n",
       "      <td>2</td>\n",
       "      <td>VSTEXT</td>\n",
       "      <td>0.248710</td>\n",
       "    </tr>\n",
       "    <tr>\n",
       "      <th>1</th>\n",
       "      <td>1</td>\n",
       "      <td>MAJFLT</td>\n",
       "      <td>0.066296</td>\n",
       "    </tr>\n",
       "  </tbody>\n",
       "</table>\n",
       "</div>"
      ],
      "text/plain": [
       "   idx    name     score\n",
       "3    3   RSIZE  0.378355\n",
       "0    0  MINFLT  0.306639\n",
       "2    2  VSTEXT  0.248710\n",
       "1    1  MAJFLT  0.066296"
      ]
     },
     "execution_count": 49,
     "metadata": {},
     "output_type": "execute_result"
    }
   ],
   "source": [
    "# most important features for memory data with DT\n",
    "feature_importance(mem_dt_best_model.stages[-1]\\\n",
    "                  .featureImportances, mem_dt_best_model.transform(memory_reduced), \"features\").head(10)"
   ]
  },
  {
   "cell_type": "code",
   "execution_count": 50,
   "metadata": {
    "ExecuteTime": {
     "end_time": "2020-10-04T10:18:24.324479Z",
     "start_time": "2020-10-04T10:18:24.226811Z"
    }
   },
   "outputs": [
    {
     "data": {
      "text/html": [
       "<div>\n",
       "<style scoped>\n",
       "    .dataframe tbody tr th:only-of-type {\n",
       "        vertical-align: middle;\n",
       "    }\n",
       "\n",
       "    .dataframe tbody tr th {\n",
       "        vertical-align: top;\n",
       "    }\n",
       "\n",
       "    .dataframe thead th {\n",
       "        text-align: right;\n",
       "    }\n",
       "</style>\n",
       "<table border=\"1\" class=\"dataframe\">\n",
       "  <thead>\n",
       "    <tr style=\"text-align: right;\">\n",
       "      <th></th>\n",
       "      <th>idx</th>\n",
       "      <th>name</th>\n",
       "      <th>score</th>\n",
       "    </tr>\n",
       "  </thead>\n",
       "  <tbody>\n",
       "    <tr>\n",
       "      <th>3</th>\n",
       "      <td>3</td>\n",
       "      <td>RSIZE</td>\n",
       "      <td>0.400470</td>\n",
       "    </tr>\n",
       "    <tr>\n",
       "      <th>0</th>\n",
       "      <td>0</td>\n",
       "      <td>MINFLT</td>\n",
       "      <td>0.297404</td>\n",
       "    </tr>\n",
       "    <tr>\n",
       "      <th>2</th>\n",
       "      <td>2</td>\n",
       "      <td>VSTEXT</td>\n",
       "      <td>0.192232</td>\n",
       "    </tr>\n",
       "    <tr>\n",
       "      <th>1</th>\n",
       "      <td>1</td>\n",
       "      <td>MAJFLT</td>\n",
       "      <td>0.109894</td>\n",
       "    </tr>\n",
       "  </tbody>\n",
       "</table>\n",
       "</div>"
      ],
      "text/plain": [
       "   idx    name     score\n",
       "3    3   RSIZE  0.400470\n",
       "0    0  MINFLT  0.297404\n",
       "2    2  VSTEXT  0.192232\n",
       "1    1  MAJFLT  0.109894"
      ]
     },
     "execution_count": 50,
     "metadata": {},
     "output_type": "execute_result"
    }
   ],
   "source": [
    "# most important features for memory data with GBT\n",
    "feature_importance(mem_gbt_best_model.stages[-1]\\\n",
    "                  .featureImportances, mem_gbt_best_model.transform(memory_reduced), \"features\").head(10)"
   ]
  },
  {
   "cell_type": "markdown",
   "metadata": {},
   "source": [
    "For the memory data model we only passed in four features so again there is no \"top-5\". For both models, DT and GBT, the order of importance of the features is the same, only the scores for importance differ slightly. The most important feature is RSIZE, followed by MINFLT, then VSTEXT and last MAJFLT.\n",
    "\n",
    "Choosing the better model:\n",
    "\n",
    "The metrics for the memory data show and AUC of around 61% and a Recall of 57% for the DT. The GBT gives an AUC of around 84% and a recall of around 56%. Even though the GBT model gives a slightly worse recall, it still outperforms the DT overall, because the AUC is much higher. So we will choose the GBT model for the memory data as well."
   ]
  },
  {
   "cell_type": "code",
   "execution_count": 51,
   "metadata": {
    "ExecuteTime": {
     "end_time": "2020-10-04T10:18:24.347234Z",
     "start_time": "2020-10-04T10:18:24.327106Z"
    }
   },
   "outputs": [],
   "source": [
    "from pyspark.mllib.evaluation import BinaryClassificationMetrics\n",
    "\n",
    "class CurveMetrics(BinaryClassificationMetrics):\n",
    "    def __init__(self, *args):\n",
    "        super(CurveMetrics, self).__init__(*args)\n",
    "    \n",
    "    # retrieve points from RDD and store in list\n",
    "    def _to_list(self, rdd):\n",
    "        points = []\n",
    "        for row in rdd.collect():\n",
    "            points += [(float(row._1()), float(row._2()))]\n",
    "        return points\n",
    "\n",
    "    def get_curve(self, method):\n",
    "        rdd = getattr(self._java_model, method)().toJavaRDD()\n",
    "        return self._to_list(rdd)\n",
    "    "
   ]
  },
  {
   "cell_type": "markdown",
   "metadata": {},
   "source": [
    "Ross, A. (2019). Answer to question: *pyspark extract ROC curve?* Retrieved from: https://stackoverflow.com/questions/52847408/pyspark-extract-roc-curve"
   ]
  },
  {
   "cell_type": "code",
   "execution_count": 52,
   "metadata": {
    "ExecuteTime": {
     "end_time": "2020-10-04T10:18:24.356993Z",
     "start_time": "2020-10-04T10:18:24.349634Z"
    }
   },
   "outputs": [],
   "source": [
    "def plot_auc(prediction):\n",
    "    \n",
    "    #Returns as a list (false positive rate, true positive rate)\n",
    "    preds_process = prediction.select('label','probability').rdd.map(lambda row: (float(row['probability'][1]), float(row['label'])))\n",
    "    points = CurveMetrics(preds_process).get_curve('roc')\n",
    "\n",
    "    plt.figure()\n",
    "    x = [x[0] for x in points]\n",
    "    y = [x[1] for x in points]\n",
    "    plt.title(\"ROC Curve for GBT process model\")\n",
    "    plt.xlabel('False Positive Rate')\n",
    "    plt.ylabel('True Positive Rate')\n",
    "    plt.plot([0, 1], [0, 1], 'b--')\n",
    "    plt.plot(x, y, 'green')\n",
    "    plt.show()"
   ]
  },
  {
   "cell_type": "code",
   "execution_count": 53,
   "metadata": {
    "ExecuteTime": {
     "end_time": "2020-10-04T10:19:03.009975Z",
     "start_time": "2020-10-04T10:18:24.361501Z"
    }
   },
   "outputs": [
    {
     "data": {
      "image/png": "[encoded data removed]",
      "text/plain": [
       "<Figure size 432x288 with 1 Axes>"
      ]
     },
     "metadata": {
      "needs_background": "light"
     },
     "output_type": "display_data"
    }
   ],
   "source": [
    "plot_auc(pred_process_gbt)"
   ]
  },
  {
   "cell_type": "code",
   "execution_count": 54,
   "metadata": {
    "ExecuteTime": {
     "end_time": "2020-10-04T10:19:09.179934Z",
     "start_time": "2020-10-04T10:19:03.018575Z"
    }
   },
   "outputs": [
    {
     "data": {
      "image/png": "[encoded data removed]",
      "text/plain": [
       "<Figure size 432x288 with 1 Axes>"
      ]
     },
     "metadata": {
      "needs_background": "light"
     },
     "output_type": "display_data"
    }
   ],
   "source": [
    "plot_auc(pred_mem_gbt)"
   ]
  },
  {
   "cell_type": "markdown",
   "metadata": {},
   "source": [
    "#### 2.3.5 Retrain on larger subset of data and persist the models"
   ]
  },
  {
   "cell_type": "code",
   "execution_count": 55,
   "metadata": {
    "ExecuteTime": {
     "end_time": "2020-10-04T10:19:09.198298Z",
     "start_time": "2020-10-04T10:19:09.188835Z"
    }
   },
   "outputs": [],
   "source": [
    "# same function as used further above but now taking all attack data instead of only 20%\n",
    "def rebalance_2(df):\n",
    "\n",
    "    temp_attack = df.filter(col(\"attack\")==1)\n",
    "    print(\"attacks: \", temp_attack.count())\n",
    "\n",
    "    percentage = round(2* temp_attack.count() / df.filter(col(\"attack\")==0).count(),4)\n",
    "\n",
    "    temp_normal = df.filter(col(\"attack\")==0).sample(False,percentage,seed=30)\n",
    "    print(\"no attack: \", temp_normal.count())\n",
    "    \n",
    "    print(\"attack + no attack: \", (temp_attack.count() + temp_normal.count()), \"\\n\")\n",
    "    \n",
    "    new_df = temp_attack.union(temp_normal)\n",
    "    \n",
    "    return new_df"
   ]
  },
  {
   "cell_type": "code",
   "execution_count": 56,
   "metadata": {
    "ExecuteTime": {
     "end_time": "2020-10-04T10:19:11.774210Z",
     "start_time": "2020-10-04T10:19:09.211629Z"
    }
   },
   "outputs": [
    {
     "name": "stdout",
     "output_type": "stream",
     "text": [
      "attacks:  291364\n",
      "no attack:  582513\n",
      "attack + no attack:  873877 \n",
      "\n",
      "attacks:  205623\n",
      "no attack:  411510\n",
      "attack + no attack:  617133 \n",
      "\n"
     ]
    }
   ],
   "source": [
    "# full rebalanced training data\n",
    "\n",
    "process_train_2 = rebalance_2(process_df)\n",
    "memory_train_2 = rebalance_2(final_memory_df)"
   ]
  },
  {
   "cell_type": "code",
   "execution_count": 57,
   "metadata": {
    "ExecuteTime": {
     "end_time": "2020-10-04T10:19:11.811150Z",
     "start_time": "2020-10-04T10:19:11.776027Z"
    }
   },
   "outputs": [],
   "source": [
    "# change name of column \"attack\" to \"label\"\n",
    "\n",
    "process_train_2 = process_train_2.withColumnRenamed(\"attack\", \"label\")\n",
    "memory_train_2 = memory_train_2.withColumnRenamed(\"attack\", \"label\")"
   ]
  },
  {
   "cell_type": "code",
   "execution_count": 58,
   "metadata": {
    "ExecuteTime": {
     "end_time": "2020-10-04T10:19:11.828979Z",
     "start_time": "2020-10-04T10:19:11.812983Z"
    }
   },
   "outputs": [
    {
     "name": "stdout",
     "output_type": "stream",
     "text": [
      "{\n",
      "\tGBTClassifier_7e190629308f-featuresCol: features,\n",
      "\tGBTClassifier_7e190629308f-labelCol: label,\n",
      "\tGBTClassifier_7e190629308f-maxDepth: 15,\n",
      "\tGBTClassifier_7e190629308f-maxIter: 20,\n",
      "\tGBTClassifier_7e190629308f-seed: 30,\n",
      "\tGBTClassifier_7e190629308f-stepSize: 0.1\n",
      "}\n"
     ]
    }
   ],
   "source": [
    "print(process_gbt_best_model.stages[-1]._java_obj.paramMap())"
   ]
  },
  {
   "cell_type": "code",
   "execution_count": 59,
   "metadata": {
    "ExecuteTime": {
     "end_time": "2020-10-04T10:19:11.854384Z",
     "start_time": "2020-10-04T10:19:11.835148Z"
    }
   },
   "outputs": [
    {
     "name": "stdout",
     "output_type": "stream",
     "text": [
      "{\n",
      "\tGBTClassifier_7e190629308f-featuresCol: features,\n",
      "\tGBTClassifier_7e190629308f-labelCol: label,\n",
      "\tGBTClassifier_7e190629308f-maxDepth: 15,\n",
      "\tGBTClassifier_7e190629308f-maxIter: 20,\n",
      "\tGBTClassifier_7e190629308f-seed: 30,\n",
      "\tGBTClassifier_7e190629308f-stepSize: 0.2\n",
      "}\n"
     ]
    }
   ],
   "source": [
    "print(mem_gbt_best_model.stages[-1]._java_obj.paramMap())"
   ]
  },
  {
   "cell_type": "code",
   "execution_count": 60,
   "metadata": {
    "ExecuteTime": {
     "end_time": "2020-10-04T10:26:00.944351Z",
     "start_time": "2020-10-04T10:19:11.864760Z"
    }
   },
   "outputs": [],
   "source": [
    "# build new pipeline with the parameters of the best model from above\n",
    "\n",
    "gbt_process = GBTClassifier(featuresCol=\"features\", labelCol=\"label\", maxDepth=5, maxIter=20, stepSize = 0.2)\n",
    "pipeline_gbt_process = Pipeline(stages=[str_indexer,ohc,process_assembler, gbt_process])\n",
    "\n",
    "final_process_model = pipeline_gbt_process.fit(process_train_2)"
   ]
  },
  {
   "cell_type": "code",
   "execution_count": 61,
   "metadata": {
    "ExecuteTime": {
     "end_time": "2020-10-04T10:34:29.785997Z",
     "start_time": "2020-10-04T10:26:00.946065Z"
    }
   },
   "outputs": [],
   "source": [
    "# build new pipeline with the parameters of the best model from above\n",
    "\n",
    "gbt_memory = GBTClassifier(featuresCol=\"features\", labelCol=\"label\", maxDepth=15, maxIter=20, stepSize = 0.2)\n",
    "pipeline_gbt_memory = Pipeline(stages=[mem_assembler,gbt_memory])\n",
    "\n",
    "final_memory_model = pipeline_gbt_memory.fit(memory_train_2)"
   ]
  },
  {
   "cell_type": "code",
   "execution_count": 64,
   "metadata": {
    "ExecuteTime": {
     "end_time": "2020-10-04T10:36:49.847831Z",
     "start_time": "2020-10-04T10:36:41.802590Z"
    }
   },
   "outputs": [],
   "source": [
    "# Saving the model\n",
    "final_process_model.save('process_gbt_model')\n",
    "final_memory_model.save('memory_gbt_model')"
   ]
  }
 ],
 "metadata": {
  "kernelspec": {
   "display_name": "Python 3",
   "language": "python",
   "name": "python3"
  },
  "language_info": {
   "codemirror_mode": {
    "name": "ipython",
    "version": 3
   },
   "file_extension": ".py",
   "mimetype": "text/x-python",
   "name": "python",
   "nbconvert_exporter": "python",
   "pygments_lexer": "ipython3",
   "version": "3.7.1"
  },
  "toc": {
   "base_numbering": 1,
   "nav_menu": {},
   "number_sections": true,
   "sideBar": true,
   "skip_h1_title": false,
   "title_cell": "Table of Contents",
   "title_sidebar": "Contents",
   "toc_cell": false,
   "toc_position": {},
   "toc_section_display": true,
   "toc_window_display": false
  }
 },
 "nbformat": 4,
 "nbformat_minor": 4
}
